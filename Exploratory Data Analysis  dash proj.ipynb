{
 "cells": [
  {
   "cell_type": "markdown",
   "metadata": {},
   "source": [
    "# Credit Card Approval : Exploratory Data-Analysis & Model Prediction\n",
    "**Notebook's Author : Ayoub El-Hadine**"
   ]
  },
  {
   "cell_type": "markdown",
   "metadata": {},
   "source": [
    "Being declined for a new credit card is frustrating and if you’re looking to be approved for a credit card, you’ll need to meet all of the card issuer’s minimum criteria for creditworthiness and income.So What Credit Score Do You Need To Get Approved For A Credit Card ? In order to approach an answer to this question an analysis for the Credit Card Approval dataset is required(Source:https://www.kaggle.com/rikdifos/credit-card-approval-prediction)."
   ]
  },
  {
   "cell_type": "markdown",
   "metadata": {},
   "source": [
    "## 1.Loading and cleaning the data"
   ]
  },
  {
   "cell_type": "markdown",
   "metadata": {},
   "source": [
    "### 1.1.Loading the necessary packages"
   ]
  },
  {
   "cell_type": "code",
   "execution_count": 1,
   "metadata": {},
   "outputs": [],
   "source": [
    "import pandas as pd\n",
    "import numpy as np\n",
    "import seaborn as sns\n",
    "from sklearn import preprocessing\n",
    "from sklearn.model_selection import train_test_split\n",
    "from sklearn.tree import DecisionTreeClassifier\n",
    "from sklearn.ensemble import RandomForestClassifier\n",
    "from sklearn.svm import SVC\n",
    "from xgboost import XGBClassifier\n",
    "from sklearn.metrics import accuracy_score\n",
    "%matplotlib inline"
   ]
  },
  {
   "cell_type": "markdown",
   "metadata": {},
   "source": [
    "### 1.2.Loading the data"
   ]
  },
  {
   "cell_type": "markdown",
   "metadata": {},
   "source": [
    "After loading our dataset we find first that there are 17 features and 25134 examples."
   ]
  },
  {
   "cell_type": "code",
   "execution_count": 2,
   "metadata": {},
   "outputs": [
    {
     "name": "stdout",
     "output_type": "stream",
     "text": [
      "(25134, 17)\n"
     ]
    },
    {
     "data": {
      "text/html": [
       "<div>\n",
       "<style scoped>\n",
       "    .dataframe tbody tr th:only-of-type {\n",
       "        vertical-align: middle;\n",
       "    }\n",
       "\n",
       "    .dataframe tbody tr th {\n",
       "        vertical-align: top;\n",
       "    }\n",
       "\n",
       "    .dataframe thead th {\n",
       "        text-align: right;\n",
       "    }\n",
       "</style>\n",
       "<table border=\"1\" class=\"dataframe\">\n",
       "  <thead>\n",
       "    <tr style=\"text-align: right;\">\n",
       "      <th></th>\n",
       "      <th>Unnamed: 0</th>\n",
       "      <th>ID</th>\n",
       "      <th>Gender</th>\n",
       "      <th>OWN_CAR</th>\n",
       "      <th>OWN_REALTY</th>\n",
       "      <th>CNT_CHILDREN</th>\n",
       "      <th>ANN_INC</th>\n",
       "      <th>INC_CAT</th>\n",
       "      <th>EDU_LVL</th>\n",
       "      <th>STATUS</th>\n",
       "      <th>LIVING</th>\n",
       "      <th>OCCUPATION_TYPE</th>\n",
       "      <th>FAM_CNT</th>\n",
       "      <th>Age</th>\n",
       "      <th>Experience</th>\n",
       "      <th>Approved</th>\n",
       "      <th>target</th>\n",
       "    </tr>\n",
       "  </thead>\n",
       "  <tbody>\n",
       "    <tr>\n",
       "      <td>0</td>\n",
       "      <td>2</td>\n",
       "      <td>5008806</td>\n",
       "      <td>M</td>\n",
       "      <td>Y</td>\n",
       "      <td>Y</td>\n",
       "      <td>0</td>\n",
       "      <td>112500.0</td>\n",
       "      <td>Working</td>\n",
       "      <td>Secondary / secondary special</td>\n",
       "      <td>Married</td>\n",
       "      <td>House / apartment</td>\n",
       "      <td>Security staff</td>\n",
       "      <td>2</td>\n",
       "      <td>58</td>\n",
       "      <td>3</td>\n",
       "      <td>No</td>\n",
       "      <td>0</td>\n",
       "    </tr>\n",
       "    <tr>\n",
       "      <td>1</td>\n",
       "      <td>3</td>\n",
       "      <td>5008808</td>\n",
       "      <td>F</td>\n",
       "      <td>N</td>\n",
       "      <td>Y</td>\n",
       "      <td>0</td>\n",
       "      <td>270000.0</td>\n",
       "      <td>Commercial associate</td>\n",
       "      <td>Secondary / secondary special</td>\n",
       "      <td>Single / not married</td>\n",
       "      <td>House / apartment</td>\n",
       "      <td>Sales staff</td>\n",
       "      <td>1</td>\n",
       "      <td>52</td>\n",
       "      <td>8</td>\n",
       "      <td>No</td>\n",
       "      <td>0</td>\n",
       "    </tr>\n",
       "    <tr>\n",
       "      <td>2</td>\n",
       "      <td>4</td>\n",
       "      <td>5008809</td>\n",
       "      <td>F</td>\n",
       "      <td>N</td>\n",
       "      <td>Y</td>\n",
       "      <td>0</td>\n",
       "      <td>270000.0</td>\n",
       "      <td>Commercial associate</td>\n",
       "      <td>Secondary / secondary special</td>\n",
       "      <td>Single / not married</td>\n",
       "      <td>House / apartment</td>\n",
       "      <td>Sales staff</td>\n",
       "      <td>1</td>\n",
       "      <td>52</td>\n",
       "      <td>8</td>\n",
       "      <td>No</td>\n",
       "      <td>0</td>\n",
       "    </tr>\n",
       "    <tr>\n",
       "      <td>3</td>\n",
       "      <td>5</td>\n",
       "      <td>5008810</td>\n",
       "      <td>F</td>\n",
       "      <td>N</td>\n",
       "      <td>Y</td>\n",
       "      <td>0</td>\n",
       "      <td>270000.0</td>\n",
       "      <td>Commercial associate</td>\n",
       "      <td>Secondary / secondary special</td>\n",
       "      <td>Single / not married</td>\n",
       "      <td>House / apartment</td>\n",
       "      <td>Sales staff</td>\n",
       "      <td>1</td>\n",
       "      <td>52</td>\n",
       "      <td>8</td>\n",
       "      <td>No</td>\n",
       "      <td>0</td>\n",
       "    </tr>\n",
       "    <tr>\n",
       "      <td>4</td>\n",
       "      <td>6</td>\n",
       "      <td>5008811</td>\n",
       "      <td>F</td>\n",
       "      <td>N</td>\n",
       "      <td>Y</td>\n",
       "      <td>0</td>\n",
       "      <td>270000.0</td>\n",
       "      <td>Commercial associate</td>\n",
       "      <td>Secondary / secondary special</td>\n",
       "      <td>Single / not married</td>\n",
       "      <td>House / apartment</td>\n",
       "      <td>Sales staff</td>\n",
       "      <td>1</td>\n",
       "      <td>52</td>\n",
       "      <td>8</td>\n",
       "      <td>No</td>\n",
       "      <td>0</td>\n",
       "    </tr>\n",
       "    <tr>\n",
       "      <td>...</td>\n",
       "      <td>...</td>\n",
       "      <td>...</td>\n",
       "      <td>...</td>\n",
       "      <td>...</td>\n",
       "      <td>...</td>\n",
       "      <td>...</td>\n",
       "      <td>...</td>\n",
       "      <td>...</td>\n",
       "      <td>...</td>\n",
       "      <td>...</td>\n",
       "      <td>...</td>\n",
       "      <td>...</td>\n",
       "      <td>...</td>\n",
       "      <td>...</td>\n",
       "      <td>...</td>\n",
       "      <td>...</td>\n",
       "      <td>...</td>\n",
       "    </tr>\n",
       "    <tr>\n",
       "      <td>25129</td>\n",
       "      <td>36452</td>\n",
       "      <td>5149828</td>\n",
       "      <td>M</td>\n",
       "      <td>Y</td>\n",
       "      <td>Y</td>\n",
       "      <td>0</td>\n",
       "      <td>315000.0</td>\n",
       "      <td>Working</td>\n",
       "      <td>Secondary / secondary special</td>\n",
       "      <td>Married</td>\n",
       "      <td>House / apartment</td>\n",
       "      <td>Accountants</td>\n",
       "      <td>2</td>\n",
       "      <td>47</td>\n",
       "      <td>6</td>\n",
       "      <td>Yes</td>\n",
       "      <td>1</td>\n",
       "    </tr>\n",
       "    <tr>\n",
       "      <td>25130</td>\n",
       "      <td>36453</td>\n",
       "      <td>5149834</td>\n",
       "      <td>F</td>\n",
       "      <td>N</td>\n",
       "      <td>Y</td>\n",
       "      <td>0</td>\n",
       "      <td>157500.0</td>\n",
       "      <td>Commercial associate</td>\n",
       "      <td>Higher education</td>\n",
       "      <td>Married</td>\n",
       "      <td>House / apartment</td>\n",
       "      <td>Accountants</td>\n",
       "      <td>2</td>\n",
       "      <td>33</td>\n",
       "      <td>3</td>\n",
       "      <td>Yes</td>\n",
       "      <td>1</td>\n",
       "    </tr>\n",
       "    <tr>\n",
       "      <td>25131</td>\n",
       "      <td>36454</td>\n",
       "      <td>5149838</td>\n",
       "      <td>F</td>\n",
       "      <td>N</td>\n",
       "      <td>Y</td>\n",
       "      <td>0</td>\n",
       "      <td>157500.0</td>\n",
       "      <td>Pensioner</td>\n",
       "      <td>Higher education</td>\n",
       "      <td>Married</td>\n",
       "      <td>House / apartment</td>\n",
       "      <td>Accountants</td>\n",
       "      <td>2</td>\n",
       "      <td>33</td>\n",
       "      <td>3</td>\n",
       "      <td>Yes</td>\n",
       "      <td>1</td>\n",
       "    </tr>\n",
       "    <tr>\n",
       "      <td>25132</td>\n",
       "      <td>36455</td>\n",
       "      <td>5150049</td>\n",
       "      <td>F</td>\n",
       "      <td>N</td>\n",
       "      <td>Y</td>\n",
       "      <td>0</td>\n",
       "      <td>283500.0</td>\n",
       "      <td>Working</td>\n",
       "      <td>Secondary / secondary special</td>\n",
       "      <td>Married</td>\n",
       "      <td>House / apartment</td>\n",
       "      <td>Accountants</td>\n",
       "      <td>2</td>\n",
       "      <td>49</td>\n",
       "      <td>1</td>\n",
       "      <td>Yes</td>\n",
       "      <td>1</td>\n",
       "    </tr>\n",
       "    <tr>\n",
       "      <td>25133</td>\n",
       "      <td>36456</td>\n",
       "      <td>5150337</td>\n",
       "      <td>M</td>\n",
       "      <td>N</td>\n",
       "      <td>Y</td>\n",
       "      <td>0</td>\n",
       "      <td>112500.0</td>\n",
       "      <td>Working</td>\n",
       "      <td>Secondary / secondary special</td>\n",
       "      <td>Single / not married</td>\n",
       "      <td>Rented apartment</td>\n",
       "      <td>Accountants</td>\n",
       "      <td>1</td>\n",
       "      <td>25</td>\n",
       "      <td>3</td>\n",
       "      <td>Yes</td>\n",
       "      <td>1</td>\n",
       "    </tr>\n",
       "  </tbody>\n",
       "</table>\n",
       "<p>25134 rows × 17 columns</p>\n",
       "</div>"
      ],
      "text/plain": [
       "       Unnamed: 0       ID Gender OWN_CAR OWN_REALTY  CNT_CHILDREN   ANN_INC  \\\n",
       "0               2  5008806      M       Y          Y             0  112500.0   \n",
       "1               3  5008808      F       N          Y             0  270000.0   \n",
       "2               4  5008809      F       N          Y             0  270000.0   \n",
       "3               5  5008810      F       N          Y             0  270000.0   \n",
       "4               6  5008811      F       N          Y             0  270000.0   \n",
       "...           ...      ...    ...     ...        ...           ...       ...   \n",
       "25129       36452  5149828      M       Y          Y             0  315000.0   \n",
       "25130       36453  5149834      F       N          Y             0  157500.0   \n",
       "25131       36454  5149838      F       N          Y             0  157500.0   \n",
       "25132       36455  5150049      F       N          Y             0  283500.0   \n",
       "25133       36456  5150337      M       N          Y             0  112500.0   \n",
       "\n",
       "                    INC_CAT                        EDU_LVL  \\\n",
       "0                   Working  Secondary / secondary special   \n",
       "1      Commercial associate  Secondary / secondary special   \n",
       "2      Commercial associate  Secondary / secondary special   \n",
       "3      Commercial associate  Secondary / secondary special   \n",
       "4      Commercial associate  Secondary / secondary special   \n",
       "...                     ...                            ...   \n",
       "25129               Working  Secondary / secondary special   \n",
       "25130  Commercial associate               Higher education   \n",
       "25131             Pensioner               Higher education   \n",
       "25132               Working  Secondary / secondary special   \n",
       "25133               Working  Secondary / secondary special   \n",
       "\n",
       "                     STATUS             LIVING OCCUPATION_TYPE  FAM_CNT  Age  \\\n",
       "0                   Married  House / apartment  Security staff        2   58   \n",
       "1      Single / not married  House / apartment     Sales staff        1   52   \n",
       "2      Single / not married  House / apartment     Sales staff        1   52   \n",
       "3      Single / not married  House / apartment     Sales staff        1   52   \n",
       "4      Single / not married  House / apartment     Sales staff        1   52   \n",
       "...                     ...                ...             ...      ...  ...   \n",
       "25129               Married  House / apartment     Accountants        2   47   \n",
       "25130               Married  House / apartment     Accountants        2   33   \n",
       "25131               Married  House / apartment     Accountants        2   33   \n",
       "25132               Married  House / apartment     Accountants        2   49   \n",
       "25133  Single / not married   Rented apartment     Accountants        1   25   \n",
       "\n",
       "       Experience Approved  target  \n",
       "0               3       No       0  \n",
       "1               8       No       0  \n",
       "2               8       No       0  \n",
       "3               8       No       0  \n",
       "4               8       No       0  \n",
       "...           ...      ...     ...  \n",
       "25129           6      Yes       1  \n",
       "25130           3      Yes       1  \n",
       "25131           3      Yes       1  \n",
       "25132           1      Yes       1  \n",
       "25133           3      Yes       1  \n",
       "\n",
       "[25134 rows x 17 columns]"
      ]
     },
     "execution_count": 2,
     "metadata": {},
     "output_type": "execute_result"
    }
   ],
   "source": [
    "df=pd.read_excel(r'Data.xlsx')\n",
    "print(df.shape)\n",
    "df"
   ]
  },
  {
   "cell_type": "markdown",
   "metadata": {},
   "source": [
    "### 1.3.Cleaning the data"
   ]
  },
  {
   "cell_type": "markdown",
   "metadata": {},
   "source": [
    "We will drop columns **ID** and **Unnamed: 0** since they doesn't provide a significant information for our problem. We will also drop the **Approved** column because we already have **target** wich is an encoding for **Approved**(1 for approved and 0 for declined)."
   ]
  },
  {
   "cell_type": "code",
   "execution_count": 3,
   "metadata": {},
   "outputs": [
    {
     "name": "stdout",
     "output_type": "stream",
     "text": [
      "(25134, 14)\n"
     ]
    }
   ],
   "source": [
    "df = df.drop(columns=['ID','Unnamed: 0','Approved'])\n",
    "print(df.shape)"
   ]
  },
  {
   "cell_type": "markdown",
   "metadata": {},
   "source": [
    "We will find that there are 0 missing values in our dataset after exploring it."
   ]
  },
  {
   "cell_type": "code",
   "execution_count": 4,
   "metadata": {},
   "outputs": [
    {
     "data": {
      "text/plain": [
       "Gender             0\n",
       "OWN_CAR            0\n",
       "OWN_REALTY         0\n",
       "CNT_CHILDREN       0\n",
       "ANN_INC            0\n",
       "INC_CAT            0\n",
       "EDU_LVL            0\n",
       "STATUS             0\n",
       "LIVING             0\n",
       "OCCUPATION_TYPE    0\n",
       "FAM_CNT            0\n",
       "Age                0\n",
       "Experience         0\n",
       "target             0\n",
       "dtype: int64"
      ]
     },
     "execution_count": 4,
     "metadata": {},
     "output_type": "execute_result"
    }
   ],
   "source": [
    "df.isnull().sum()"
   ]
  },
  {
   "cell_type": "markdown",
   "metadata": {},
   "source": [
    "In our dataset we have three data types : **object**, **int** and **float**."
   ]
  },
  {
   "cell_type": "code",
   "execution_count": 5,
   "metadata": {},
   "outputs": [
    {
     "data": {
      "text/plain": [
       "Gender              object\n",
       "OWN_CAR             object\n",
       "OWN_REALTY          object\n",
       "CNT_CHILDREN         int64\n",
       "ANN_INC            float64\n",
       "INC_CAT             object\n",
       "EDU_LVL             object\n",
       "STATUS              object\n",
       "LIVING              object\n",
       "OCCUPATION_TYPE     object\n",
       "FAM_CNT              int64\n",
       "Age                  int64\n",
       "Experience           int64\n",
       "target               int64\n",
       "dtype: object"
      ]
     },
     "execution_count": 5,
     "metadata": {},
     "output_type": "execute_result"
    }
   ],
   "source": [
    "df.dtypes"
   ]
  },
  {
   "cell_type": "markdown",
   "metadata": {},
   "source": [
    "**Selecting number variables in our dataset**"
   ]
  },
  {
   "cell_type": "code",
   "execution_count": 6,
   "metadata": {
    "scrolled": false
   },
   "outputs": [
    {
     "data": {
      "text/html": [
       "<div>\n",
       "<style scoped>\n",
       "    .dataframe tbody tr th:only-of-type {\n",
       "        vertical-align: middle;\n",
       "    }\n",
       "\n",
       "    .dataframe tbody tr th {\n",
       "        vertical-align: top;\n",
       "    }\n",
       "\n",
       "    .dataframe thead th {\n",
       "        text-align: right;\n",
       "    }\n",
       "</style>\n",
       "<table border=\"1\" class=\"dataframe\">\n",
       "  <thead>\n",
       "    <tr style=\"text-align: right;\">\n",
       "      <th></th>\n",
       "      <th>CNT_CHILDREN</th>\n",
       "      <th>ANN_INC</th>\n",
       "      <th>FAM_CNT</th>\n",
       "      <th>Age</th>\n",
       "      <th>Experience</th>\n",
       "      <th>target</th>\n",
       "    </tr>\n",
       "  </thead>\n",
       "  <tbody>\n",
       "    <tr>\n",
       "      <td>0</td>\n",
       "      <td>0</td>\n",
       "      <td>112500.0</td>\n",
       "      <td>2</td>\n",
       "      <td>58</td>\n",
       "      <td>3</td>\n",
       "      <td>0</td>\n",
       "    </tr>\n",
       "    <tr>\n",
       "      <td>1</td>\n",
       "      <td>0</td>\n",
       "      <td>270000.0</td>\n",
       "      <td>1</td>\n",
       "      <td>52</td>\n",
       "      <td>8</td>\n",
       "      <td>0</td>\n",
       "    </tr>\n",
       "    <tr>\n",
       "      <td>2</td>\n",
       "      <td>0</td>\n",
       "      <td>270000.0</td>\n",
       "      <td>1</td>\n",
       "      <td>52</td>\n",
       "      <td>8</td>\n",
       "      <td>0</td>\n",
       "    </tr>\n",
       "    <tr>\n",
       "      <td>3</td>\n",
       "      <td>0</td>\n",
       "      <td>270000.0</td>\n",
       "      <td>1</td>\n",
       "      <td>52</td>\n",
       "      <td>8</td>\n",
       "      <td>0</td>\n",
       "    </tr>\n",
       "    <tr>\n",
       "      <td>4</td>\n",
       "      <td>0</td>\n",
       "      <td>270000.0</td>\n",
       "      <td>1</td>\n",
       "      <td>52</td>\n",
       "      <td>8</td>\n",
       "      <td>0</td>\n",
       "    </tr>\n",
       "    <tr>\n",
       "      <td>...</td>\n",
       "      <td>...</td>\n",
       "      <td>...</td>\n",
       "      <td>...</td>\n",
       "      <td>...</td>\n",
       "      <td>...</td>\n",
       "      <td>...</td>\n",
       "    </tr>\n",
       "    <tr>\n",
       "      <td>25129</td>\n",
       "      <td>0</td>\n",
       "      <td>315000.0</td>\n",
       "      <td>2</td>\n",
       "      <td>47</td>\n",
       "      <td>6</td>\n",
       "      <td>1</td>\n",
       "    </tr>\n",
       "    <tr>\n",
       "      <td>25130</td>\n",
       "      <td>0</td>\n",
       "      <td>157500.0</td>\n",
       "      <td>2</td>\n",
       "      <td>33</td>\n",
       "      <td>3</td>\n",
       "      <td>1</td>\n",
       "    </tr>\n",
       "    <tr>\n",
       "      <td>25131</td>\n",
       "      <td>0</td>\n",
       "      <td>157500.0</td>\n",
       "      <td>2</td>\n",
       "      <td>33</td>\n",
       "      <td>3</td>\n",
       "      <td>1</td>\n",
       "    </tr>\n",
       "    <tr>\n",
       "      <td>25132</td>\n",
       "      <td>0</td>\n",
       "      <td>283500.0</td>\n",
       "      <td>2</td>\n",
       "      <td>49</td>\n",
       "      <td>1</td>\n",
       "      <td>1</td>\n",
       "    </tr>\n",
       "    <tr>\n",
       "      <td>25133</td>\n",
       "      <td>0</td>\n",
       "      <td>112500.0</td>\n",
       "      <td>1</td>\n",
       "      <td>25</td>\n",
       "      <td>3</td>\n",
       "      <td>1</td>\n",
       "    </tr>\n",
       "  </tbody>\n",
       "</table>\n",
       "<p>25134 rows × 6 columns</p>\n",
       "</div>"
      ],
      "text/plain": [
       "       CNT_CHILDREN   ANN_INC  FAM_CNT  Age  Experience  target\n",
       "0                 0  112500.0        2   58           3       0\n",
       "1                 0  270000.0        1   52           8       0\n",
       "2                 0  270000.0        1   52           8       0\n",
       "3                 0  270000.0        1   52           8       0\n",
       "4                 0  270000.0        1   52           8       0\n",
       "...             ...       ...      ...  ...         ...     ...\n",
       "25129             0  315000.0        2   47           6       1\n",
       "25130             0  157500.0        2   33           3       1\n",
       "25131             0  157500.0        2   33           3       1\n",
       "25132             0  283500.0        2   49           1       1\n",
       "25133             0  112500.0        1   25           3       1\n",
       "\n",
       "[25134 rows x 6 columns]"
      ]
     },
     "execution_count": 6,
     "metadata": {},
     "output_type": "execute_result"
    }
   ],
   "source": [
    "df.select_dtypes(include=[\"number\"])"
   ]
  },
  {
   "cell_type": "markdown",
   "metadata": {},
   "source": [
    "**Selecting object variables in our dataset**"
   ]
  },
  {
   "cell_type": "code",
   "execution_count": 7,
   "metadata": {},
   "outputs": [
    {
     "data": {
      "text/html": [
       "<div>\n",
       "<style scoped>\n",
       "    .dataframe tbody tr th:only-of-type {\n",
       "        vertical-align: middle;\n",
       "    }\n",
       "\n",
       "    .dataframe tbody tr th {\n",
       "        vertical-align: top;\n",
       "    }\n",
       "\n",
       "    .dataframe thead th {\n",
       "        text-align: right;\n",
       "    }\n",
       "</style>\n",
       "<table border=\"1\" class=\"dataframe\">\n",
       "  <thead>\n",
       "    <tr style=\"text-align: right;\">\n",
       "      <th></th>\n",
       "      <th>Gender</th>\n",
       "      <th>OWN_CAR</th>\n",
       "      <th>OWN_REALTY</th>\n",
       "      <th>INC_CAT</th>\n",
       "      <th>EDU_LVL</th>\n",
       "      <th>STATUS</th>\n",
       "      <th>LIVING</th>\n",
       "      <th>OCCUPATION_TYPE</th>\n",
       "    </tr>\n",
       "  </thead>\n",
       "  <tbody>\n",
       "    <tr>\n",
       "      <td>0</td>\n",
       "      <td>M</td>\n",
       "      <td>Y</td>\n",
       "      <td>Y</td>\n",
       "      <td>Working</td>\n",
       "      <td>Secondary / secondary special</td>\n",
       "      <td>Married</td>\n",
       "      <td>House / apartment</td>\n",
       "      <td>Security staff</td>\n",
       "    </tr>\n",
       "    <tr>\n",
       "      <td>1</td>\n",
       "      <td>F</td>\n",
       "      <td>N</td>\n",
       "      <td>Y</td>\n",
       "      <td>Commercial associate</td>\n",
       "      <td>Secondary / secondary special</td>\n",
       "      <td>Single / not married</td>\n",
       "      <td>House / apartment</td>\n",
       "      <td>Sales staff</td>\n",
       "    </tr>\n",
       "    <tr>\n",
       "      <td>2</td>\n",
       "      <td>F</td>\n",
       "      <td>N</td>\n",
       "      <td>Y</td>\n",
       "      <td>Commercial associate</td>\n",
       "      <td>Secondary / secondary special</td>\n",
       "      <td>Single / not married</td>\n",
       "      <td>House / apartment</td>\n",
       "      <td>Sales staff</td>\n",
       "    </tr>\n",
       "    <tr>\n",
       "      <td>3</td>\n",
       "      <td>F</td>\n",
       "      <td>N</td>\n",
       "      <td>Y</td>\n",
       "      <td>Commercial associate</td>\n",
       "      <td>Secondary / secondary special</td>\n",
       "      <td>Single / not married</td>\n",
       "      <td>House / apartment</td>\n",
       "      <td>Sales staff</td>\n",
       "    </tr>\n",
       "    <tr>\n",
       "      <td>4</td>\n",
       "      <td>F</td>\n",
       "      <td>N</td>\n",
       "      <td>Y</td>\n",
       "      <td>Commercial associate</td>\n",
       "      <td>Secondary / secondary special</td>\n",
       "      <td>Single / not married</td>\n",
       "      <td>House / apartment</td>\n",
       "      <td>Sales staff</td>\n",
       "    </tr>\n",
       "    <tr>\n",
       "      <td>...</td>\n",
       "      <td>...</td>\n",
       "      <td>...</td>\n",
       "      <td>...</td>\n",
       "      <td>...</td>\n",
       "      <td>...</td>\n",
       "      <td>...</td>\n",
       "      <td>...</td>\n",
       "      <td>...</td>\n",
       "    </tr>\n",
       "    <tr>\n",
       "      <td>25129</td>\n",
       "      <td>M</td>\n",
       "      <td>Y</td>\n",
       "      <td>Y</td>\n",
       "      <td>Working</td>\n",
       "      <td>Secondary / secondary special</td>\n",
       "      <td>Married</td>\n",
       "      <td>House / apartment</td>\n",
       "      <td>Accountants</td>\n",
       "    </tr>\n",
       "    <tr>\n",
       "      <td>25130</td>\n",
       "      <td>F</td>\n",
       "      <td>N</td>\n",
       "      <td>Y</td>\n",
       "      <td>Commercial associate</td>\n",
       "      <td>Higher education</td>\n",
       "      <td>Married</td>\n",
       "      <td>House / apartment</td>\n",
       "      <td>Accountants</td>\n",
       "    </tr>\n",
       "    <tr>\n",
       "      <td>25131</td>\n",
       "      <td>F</td>\n",
       "      <td>N</td>\n",
       "      <td>Y</td>\n",
       "      <td>Pensioner</td>\n",
       "      <td>Higher education</td>\n",
       "      <td>Married</td>\n",
       "      <td>House / apartment</td>\n",
       "      <td>Accountants</td>\n",
       "    </tr>\n",
       "    <tr>\n",
       "      <td>25132</td>\n",
       "      <td>F</td>\n",
       "      <td>N</td>\n",
       "      <td>Y</td>\n",
       "      <td>Working</td>\n",
       "      <td>Secondary / secondary special</td>\n",
       "      <td>Married</td>\n",
       "      <td>House / apartment</td>\n",
       "      <td>Accountants</td>\n",
       "    </tr>\n",
       "    <tr>\n",
       "      <td>25133</td>\n",
       "      <td>M</td>\n",
       "      <td>N</td>\n",
       "      <td>Y</td>\n",
       "      <td>Working</td>\n",
       "      <td>Secondary / secondary special</td>\n",
       "      <td>Single / not married</td>\n",
       "      <td>Rented apartment</td>\n",
       "      <td>Accountants</td>\n",
       "    </tr>\n",
       "  </tbody>\n",
       "</table>\n",
       "<p>25134 rows × 8 columns</p>\n",
       "</div>"
      ],
      "text/plain": [
       "      Gender OWN_CAR OWN_REALTY               INC_CAT  \\\n",
       "0          M       Y          Y               Working   \n",
       "1          F       N          Y  Commercial associate   \n",
       "2          F       N          Y  Commercial associate   \n",
       "3          F       N          Y  Commercial associate   \n",
       "4          F       N          Y  Commercial associate   \n",
       "...      ...     ...        ...                   ...   \n",
       "25129      M       Y          Y               Working   \n",
       "25130      F       N          Y  Commercial associate   \n",
       "25131      F       N          Y             Pensioner   \n",
       "25132      F       N          Y               Working   \n",
       "25133      M       N          Y               Working   \n",
       "\n",
       "                             EDU_LVL                STATUS             LIVING  \\\n",
       "0      Secondary / secondary special               Married  House / apartment   \n",
       "1      Secondary / secondary special  Single / not married  House / apartment   \n",
       "2      Secondary / secondary special  Single / not married  House / apartment   \n",
       "3      Secondary / secondary special  Single / not married  House / apartment   \n",
       "4      Secondary / secondary special  Single / not married  House / apartment   \n",
       "...                              ...                   ...                ...   \n",
       "25129  Secondary / secondary special               Married  House / apartment   \n",
       "25130               Higher education               Married  House / apartment   \n",
       "25131               Higher education               Married  House / apartment   \n",
       "25132  Secondary / secondary special               Married  House / apartment   \n",
       "25133  Secondary / secondary special  Single / not married   Rented apartment   \n",
       "\n",
       "      OCCUPATION_TYPE  \n",
       "0      Security staff  \n",
       "1         Sales staff  \n",
       "2         Sales staff  \n",
       "3         Sales staff  \n",
       "4         Sales staff  \n",
       "...               ...  \n",
       "25129     Accountants  \n",
       "25130     Accountants  \n",
       "25131     Accountants  \n",
       "25132     Accountants  \n",
       "25133     Accountants  \n",
       "\n",
       "[25134 rows x 8 columns]"
      ]
     },
     "execution_count": 7,
     "metadata": {},
     "output_type": "execute_result"
    }
   ],
   "source": [
    "df.select_dtypes(include=[\"object\"])"
   ]
  },
  {
   "cell_type": "markdown",
   "metadata": {},
   "source": [
    "**Dealing with duplicated values**"
   ]
  },
  {
   "cell_type": "markdown",
   "metadata": {},
   "source": [
    "After searching in our dataset for duplicated values we find that there are **18249** values that are duplicated."
   ]
  },
  {
   "cell_type": "code",
   "execution_count": 8,
   "metadata": {},
   "outputs": [
    {
     "data": {
      "text/plain": [
       "18249"
      ]
     },
     "execution_count": 8,
     "metadata": {},
     "output_type": "execute_result"
    }
   ],
   "source": [
    "df[df.columns].duplicated().sum()"
   ]
  },
  {
   "cell_type": "markdown",
   "metadata": {},
   "source": [
    "**Dropping duplicated values**"
   ]
  },
  {
   "cell_type": "code",
   "execution_count": 9,
   "metadata": {},
   "outputs": [
    {
     "name": "stdout",
     "output_type": "stream",
     "text": [
      "(6885, 14)\n"
     ]
    }
   ],
   "source": [
    "df.drop_duplicates(subset=[\"CNT_CHILDREN\",\"ANN_INC\",\"FAM_CNT\",\"Age\",\"Experience\",\"target\",\"Gender\",\"OWN_CAR\",\"OWN_REALTY\",\"INC_CAT\",\"EDU_LVL\",\"STATUS\",\"LIVING\",\"OCCUPATION_TYPE\"],keep='first',inplace=True)\n",
    "print(df.shape)"
   ]
  },
  {
   "cell_type": "markdown",
   "metadata": {},
   "source": [
    "**Writing our data into NewData.csv**"
   ]
  },
  {
   "cell_type": "code",
   "execution_count": 10,
   "metadata": {},
   "outputs": [],
   "source": [
    "df.to_csv('NewData.csv',index=False)"
   ]
  },
  {
   "cell_type": "markdown",
   "metadata": {},
   "source": [
    "## 2.Exploratory Data-Analysis"
   ]
  },
  {
   "cell_type": "markdown",
   "metadata": {},
   "source": [
    "### 2.1.Loading and exploring cleaned data"
   ]
  },
  {
   "cell_type": "code",
   "execution_count": 11,
   "metadata": {},
   "outputs": [
    {
     "data": {
      "text/html": [
       "<div>\n",
       "<style scoped>\n",
       "    .dataframe tbody tr th:only-of-type {\n",
       "        vertical-align: middle;\n",
       "    }\n",
       "\n",
       "    .dataframe tbody tr th {\n",
       "        vertical-align: top;\n",
       "    }\n",
       "\n",
       "    .dataframe thead th {\n",
       "        text-align: right;\n",
       "    }\n",
       "</style>\n",
       "<table border=\"1\" class=\"dataframe\">\n",
       "  <thead>\n",
       "    <tr style=\"text-align: right;\">\n",
       "      <th></th>\n",
       "      <th>Gender</th>\n",
       "      <th>OWN_CAR</th>\n",
       "      <th>OWN_REALTY</th>\n",
       "      <th>CNT_CHILDREN</th>\n",
       "      <th>ANN_INC</th>\n",
       "      <th>INC_CAT</th>\n",
       "      <th>EDU_LVL</th>\n",
       "      <th>STATUS</th>\n",
       "      <th>LIVING</th>\n",
       "      <th>OCCUPATION_TYPE</th>\n",
       "      <th>FAM_CNT</th>\n",
       "      <th>Age</th>\n",
       "      <th>Experience</th>\n",
       "      <th>target</th>\n",
       "    </tr>\n",
       "  </thead>\n",
       "  <tbody>\n",
       "    <tr>\n",
       "      <td>0</td>\n",
       "      <td>M</td>\n",
       "      <td>Y</td>\n",
       "      <td>Y</td>\n",
       "      <td>0</td>\n",
       "      <td>112500.0</td>\n",
       "      <td>Working</td>\n",
       "      <td>Secondary / secondary special</td>\n",
       "      <td>Married</td>\n",
       "      <td>House / apartment</td>\n",
       "      <td>Security staff</td>\n",
       "      <td>2</td>\n",
       "      <td>58</td>\n",
       "      <td>3</td>\n",
       "      <td>0</td>\n",
       "    </tr>\n",
       "    <tr>\n",
       "      <td>1</td>\n",
       "      <td>F</td>\n",
       "      <td>N</td>\n",
       "      <td>Y</td>\n",
       "      <td>0</td>\n",
       "      <td>270000.0</td>\n",
       "      <td>Commercial associate</td>\n",
       "      <td>Secondary / secondary special</td>\n",
       "      <td>Single / not married</td>\n",
       "      <td>House / apartment</td>\n",
       "      <td>Sales staff</td>\n",
       "      <td>1</td>\n",
       "      <td>52</td>\n",
       "      <td>8</td>\n",
       "      <td>0</td>\n",
       "    </tr>\n",
       "    <tr>\n",
       "      <td>2</td>\n",
       "      <td>M</td>\n",
       "      <td>Y</td>\n",
       "      <td>Y</td>\n",
       "      <td>0</td>\n",
       "      <td>270000.0</td>\n",
       "      <td>Working</td>\n",
       "      <td>Higher education</td>\n",
       "      <td>Married</td>\n",
       "      <td>House / apartment</td>\n",
       "      <td>Accountants</td>\n",
       "      <td>2</td>\n",
       "      <td>46</td>\n",
       "      <td>2</td>\n",
       "      <td>0</td>\n",
       "    </tr>\n",
       "    <tr>\n",
       "      <td>3</td>\n",
       "      <td>M</td>\n",
       "      <td>Y</td>\n",
       "      <td>Y</td>\n",
       "      <td>0</td>\n",
       "      <td>135000.0</td>\n",
       "      <td>Commercial associate</td>\n",
       "      <td>Secondary / secondary special</td>\n",
       "      <td>Married</td>\n",
       "      <td>House / apartment</td>\n",
       "      <td>Accountants</td>\n",
       "      <td>2</td>\n",
       "      <td>48</td>\n",
       "      <td>3</td>\n",
       "      <td>0</td>\n",
       "    </tr>\n",
       "    <tr>\n",
       "      <td>4</td>\n",
       "      <td>F</td>\n",
       "      <td>Y</td>\n",
       "      <td>N</td>\n",
       "      <td>0</td>\n",
       "      <td>130500.0</td>\n",
       "      <td>Working</td>\n",
       "      <td>Incomplete higher</td>\n",
       "      <td>Married</td>\n",
       "      <td>House / apartment</td>\n",
       "      <td>Accountants</td>\n",
       "      <td>2</td>\n",
       "      <td>29</td>\n",
       "      <td>3</td>\n",
       "      <td>0</td>\n",
       "    </tr>\n",
       "    <tr>\n",
       "      <td>...</td>\n",
       "      <td>...</td>\n",
       "      <td>...</td>\n",
       "      <td>...</td>\n",
       "      <td>...</td>\n",
       "      <td>...</td>\n",
       "      <td>...</td>\n",
       "      <td>...</td>\n",
       "      <td>...</td>\n",
       "      <td>...</td>\n",
       "      <td>...</td>\n",
       "      <td>...</td>\n",
       "      <td>...</td>\n",
       "      <td>...</td>\n",
       "      <td>...</td>\n",
       "    </tr>\n",
       "    <tr>\n",
       "      <td>6880</td>\n",
       "      <td>M</td>\n",
       "      <td>Y</td>\n",
       "      <td>Y</td>\n",
       "      <td>0</td>\n",
       "      <td>315000.0</td>\n",
       "      <td>Working</td>\n",
       "      <td>Secondary / secondary special</td>\n",
       "      <td>Married</td>\n",
       "      <td>House / apartment</td>\n",
       "      <td>Accountants</td>\n",
       "      <td>2</td>\n",
       "      <td>47</td>\n",
       "      <td>6</td>\n",
       "      <td>1</td>\n",
       "    </tr>\n",
       "    <tr>\n",
       "      <td>6881</td>\n",
       "      <td>F</td>\n",
       "      <td>N</td>\n",
       "      <td>Y</td>\n",
       "      <td>0</td>\n",
       "      <td>157500.0</td>\n",
       "      <td>Commercial associate</td>\n",
       "      <td>Higher education</td>\n",
       "      <td>Married</td>\n",
       "      <td>House / apartment</td>\n",
       "      <td>Accountants</td>\n",
       "      <td>2</td>\n",
       "      <td>33</td>\n",
       "      <td>3</td>\n",
       "      <td>1</td>\n",
       "    </tr>\n",
       "    <tr>\n",
       "      <td>6882</td>\n",
       "      <td>F</td>\n",
       "      <td>N</td>\n",
       "      <td>Y</td>\n",
       "      <td>0</td>\n",
       "      <td>157500.0</td>\n",
       "      <td>Pensioner</td>\n",
       "      <td>Higher education</td>\n",
       "      <td>Married</td>\n",
       "      <td>House / apartment</td>\n",
       "      <td>Accountants</td>\n",
       "      <td>2</td>\n",
       "      <td>33</td>\n",
       "      <td>3</td>\n",
       "      <td>1</td>\n",
       "    </tr>\n",
       "    <tr>\n",
       "      <td>6883</td>\n",
       "      <td>F</td>\n",
       "      <td>N</td>\n",
       "      <td>Y</td>\n",
       "      <td>0</td>\n",
       "      <td>283500.0</td>\n",
       "      <td>Working</td>\n",
       "      <td>Secondary / secondary special</td>\n",
       "      <td>Married</td>\n",
       "      <td>House / apartment</td>\n",
       "      <td>Accountants</td>\n",
       "      <td>2</td>\n",
       "      <td>49</td>\n",
       "      <td>1</td>\n",
       "      <td>1</td>\n",
       "    </tr>\n",
       "    <tr>\n",
       "      <td>6884</td>\n",
       "      <td>M</td>\n",
       "      <td>N</td>\n",
       "      <td>Y</td>\n",
       "      <td>0</td>\n",
       "      <td>112500.0</td>\n",
       "      <td>Working</td>\n",
       "      <td>Secondary / secondary special</td>\n",
       "      <td>Single / not married</td>\n",
       "      <td>Rented apartment</td>\n",
       "      <td>Accountants</td>\n",
       "      <td>1</td>\n",
       "      <td>25</td>\n",
       "      <td>3</td>\n",
       "      <td>1</td>\n",
       "    </tr>\n",
       "  </tbody>\n",
       "</table>\n",
       "<p>6885 rows × 14 columns</p>\n",
       "</div>"
      ],
      "text/plain": [
       "     Gender OWN_CAR OWN_REALTY  CNT_CHILDREN   ANN_INC               INC_CAT  \\\n",
       "0         M       Y          Y             0  112500.0               Working   \n",
       "1         F       N          Y             0  270000.0  Commercial associate   \n",
       "2         M       Y          Y             0  270000.0               Working   \n",
       "3         M       Y          Y             0  135000.0  Commercial associate   \n",
       "4         F       Y          N             0  130500.0               Working   \n",
       "...     ...     ...        ...           ...       ...                   ...   \n",
       "6880      M       Y          Y             0  315000.0               Working   \n",
       "6881      F       N          Y             0  157500.0  Commercial associate   \n",
       "6882      F       N          Y             0  157500.0             Pensioner   \n",
       "6883      F       N          Y             0  283500.0               Working   \n",
       "6884      M       N          Y             0  112500.0               Working   \n",
       "\n",
       "                            EDU_LVL                STATUS             LIVING  \\\n",
       "0     Secondary / secondary special               Married  House / apartment   \n",
       "1     Secondary / secondary special  Single / not married  House / apartment   \n",
       "2                  Higher education               Married  House / apartment   \n",
       "3     Secondary / secondary special               Married  House / apartment   \n",
       "4                 Incomplete higher               Married  House / apartment   \n",
       "...                             ...                   ...                ...   \n",
       "6880  Secondary / secondary special               Married  House / apartment   \n",
       "6881               Higher education               Married  House / apartment   \n",
       "6882               Higher education               Married  House / apartment   \n",
       "6883  Secondary / secondary special               Married  House / apartment   \n",
       "6884  Secondary / secondary special  Single / not married   Rented apartment   \n",
       "\n",
       "     OCCUPATION_TYPE  FAM_CNT  Age  Experience  target  \n",
       "0     Security staff        2   58           3       0  \n",
       "1        Sales staff        1   52           8       0  \n",
       "2        Accountants        2   46           2       0  \n",
       "3        Accountants        2   48           3       0  \n",
       "4        Accountants        2   29           3       0  \n",
       "...              ...      ...  ...         ...     ...  \n",
       "6880     Accountants        2   47           6       1  \n",
       "6881     Accountants        2   33           3       1  \n",
       "6882     Accountants        2   33           3       1  \n",
       "6883     Accountants        2   49           1       1  \n",
       "6884     Accountants        1   25           3       1  \n",
       "\n",
       "[6885 rows x 14 columns]"
      ]
     },
     "execution_count": 11,
     "metadata": {},
     "output_type": "execute_result"
    }
   ],
   "source": [
    "#EDA\n",
    "df=pd.read_csv(r'NewData.csv')\n",
    "df"
   ]
  },
  {
   "cell_type": "code",
   "execution_count": 12,
   "metadata": {},
   "outputs": [
    {
     "data": {
      "text/html": [
       "<div>\n",
       "<style scoped>\n",
       "    .dataframe tbody tr th:only-of-type {\n",
       "        vertical-align: middle;\n",
       "    }\n",
       "\n",
       "    .dataframe tbody tr th {\n",
       "        vertical-align: top;\n",
       "    }\n",
       "\n",
       "    .dataframe thead th {\n",
       "        text-align: right;\n",
       "    }\n",
       "</style>\n",
       "<table border=\"1\" class=\"dataframe\">\n",
       "  <thead>\n",
       "    <tr style=\"text-align: right;\">\n",
       "      <th></th>\n",
       "      <th>CNT_CHILDREN</th>\n",
       "      <th>ANN_INC</th>\n",
       "      <th>FAM_CNT</th>\n",
       "      <th>Age</th>\n",
       "      <th>Experience</th>\n",
       "      <th>target</th>\n",
       "    </tr>\n",
       "  </thead>\n",
       "  <tbody>\n",
       "    <tr>\n",
       "      <td>count</td>\n",
       "      <td>6885.000000</td>\n",
       "      <td>6.885000e+03</td>\n",
       "      <td>6885.000000</td>\n",
       "      <td>6885.000000</td>\n",
       "      <td>6885.000000</td>\n",
       "      <td>6885.000000</td>\n",
       "    </tr>\n",
       "    <tr>\n",
       "      <td>mean</td>\n",
       "      <td>0.508642</td>\n",
       "      <td>1.902379e+05</td>\n",
       "      <td>2.282353</td>\n",
       "      <td>39.953377</td>\n",
       "      <td>6.297894</td>\n",
       "      <td>0.043282</td>\n",
       "    </tr>\n",
       "    <tr>\n",
       "      <td>std</td>\n",
       "      <td>0.819640</td>\n",
       "      <td>1.027644e+05</td>\n",
       "      <td>0.977901</td>\n",
       "      <td>9.673670</td>\n",
       "      <td>6.293518</td>\n",
       "      <td>0.203507</td>\n",
       "    </tr>\n",
       "    <tr>\n",
       "      <td>min</td>\n",
       "      <td>0.000000</td>\n",
       "      <td>2.700000e+04</td>\n",
       "      <td>1.000000</td>\n",
       "      <td>20.000000</td>\n",
       "      <td>0.000000</td>\n",
       "      <td>0.000000</td>\n",
       "    </tr>\n",
       "    <tr>\n",
       "      <td>25%</td>\n",
       "      <td>0.000000</td>\n",
       "      <td>1.260000e+05</td>\n",
       "      <td>2.000000</td>\n",
       "      <td>32.000000</td>\n",
       "      <td>2.000000</td>\n",
       "      <td>0.000000</td>\n",
       "    </tr>\n",
       "    <tr>\n",
       "      <td>50%</td>\n",
       "      <td>0.000000</td>\n",
       "      <td>1.710000e+05</td>\n",
       "      <td>2.000000</td>\n",
       "      <td>39.000000</td>\n",
       "      <td>4.000000</td>\n",
       "      <td>0.000000</td>\n",
       "    </tr>\n",
       "    <tr>\n",
       "      <td>75%</td>\n",
       "      <td>1.000000</td>\n",
       "      <td>2.250000e+05</td>\n",
       "      <td>3.000000</td>\n",
       "      <td>47.000000</td>\n",
       "      <td>9.000000</td>\n",
       "      <td>0.000000</td>\n",
       "    </tr>\n",
       "    <tr>\n",
       "      <td>max</td>\n",
       "      <td>19.000000</td>\n",
       "      <td>1.575000e+06</td>\n",
       "      <td>20.000000</td>\n",
       "      <td>67.000000</td>\n",
       "      <td>43.000000</td>\n",
       "      <td>1.000000</td>\n",
       "    </tr>\n",
       "  </tbody>\n",
       "</table>\n",
       "</div>"
      ],
      "text/plain": [
       "       CNT_CHILDREN       ANN_INC      FAM_CNT          Age   Experience  \\\n",
       "count   6885.000000  6.885000e+03  6885.000000  6885.000000  6885.000000   \n",
       "mean       0.508642  1.902379e+05     2.282353    39.953377     6.297894   \n",
       "std        0.819640  1.027644e+05     0.977901     9.673670     6.293518   \n",
       "min        0.000000  2.700000e+04     1.000000    20.000000     0.000000   \n",
       "25%        0.000000  1.260000e+05     2.000000    32.000000     2.000000   \n",
       "50%        0.000000  1.710000e+05     2.000000    39.000000     4.000000   \n",
       "75%        1.000000  2.250000e+05     3.000000    47.000000     9.000000   \n",
       "max       19.000000  1.575000e+06    20.000000    67.000000    43.000000   \n",
       "\n",
       "            target  \n",
       "count  6885.000000  \n",
       "mean      0.043282  \n",
       "std       0.203507  \n",
       "min       0.000000  \n",
       "25%       0.000000  \n",
       "50%       0.000000  \n",
       "75%       0.000000  \n",
       "max       1.000000  "
      ]
     },
     "execution_count": 12,
     "metadata": {},
     "output_type": "execute_result"
    }
   ],
   "source": [
    "df.describe()"
   ]
  },
  {
   "cell_type": "markdown",
   "metadata": {},
   "source": [
    "### 2.2.Asking Data questions"
   ]
  },
  {
   "cell_type": "markdown",
   "metadata": {},
   "source": [
    "**How many clients have been approved and how many clients have been declined?**"
   ]
  },
  {
   "cell_type": "markdown",
   "metadata": {},
   "source": [
    "We'll group our dataset by target into two groups, one for **target=1** (Approved) and one for **target=0** (declined)."
   ]
  },
  {
   "cell_type": "code",
   "execution_count": 13,
   "metadata": {},
   "outputs": [
    {
     "name": "stdout",
     "output_type": "stream",
     "text": [
      "298 Clients have been approved\n",
      " 6587 Clients have been declined\n"
     ]
    }
   ],
   "source": [
    "#number of approved clients vs declined clients\n",
    "ap=df.groupby('target').get_group(1)\n",
    "dec=df.groupby('target').get_group(0)\n",
    "num_ap=ap.shape[0]\n",
    "num_dec=dec.shape[0]\n",
    "print(num_ap,\"Clients have been approved\\n\",num_dec,\"Clients have been declined\")"
   ]
  },
  {
   "cell_type": "markdown",
   "metadata": {},
   "source": [
    "**Wich client has the highest annual income?**"
   ]
  },
  {
   "cell_type": "code",
   "execution_count": 14,
   "metadata": {
    "scrolled": false
   },
   "outputs": [
    {
     "data": {
      "text/html": [
       "<div>\n",
       "<style scoped>\n",
       "    .dataframe tbody tr th:only-of-type {\n",
       "        vertical-align: middle;\n",
       "    }\n",
       "\n",
       "    .dataframe tbody tr th {\n",
       "        vertical-align: top;\n",
       "    }\n",
       "\n",
       "    .dataframe thead th {\n",
       "        text-align: right;\n",
       "    }\n",
       "</style>\n",
       "<table border=\"1\" class=\"dataframe\">\n",
       "  <thead>\n",
       "    <tr style=\"text-align: right;\">\n",
       "      <th></th>\n",
       "      <th>Gender</th>\n",
       "      <th>OWN_CAR</th>\n",
       "      <th>OWN_REALTY</th>\n",
       "      <th>CNT_CHILDREN</th>\n",
       "      <th>ANN_INC</th>\n",
       "      <th>INC_CAT</th>\n",
       "      <th>EDU_LVL</th>\n",
       "      <th>STATUS</th>\n",
       "      <th>LIVING</th>\n",
       "      <th>OCCUPATION_TYPE</th>\n",
       "      <th>FAM_CNT</th>\n",
       "      <th>Age</th>\n",
       "      <th>Experience</th>\n",
       "      <th>target</th>\n",
       "    </tr>\n",
       "  </thead>\n",
       "  <tbody>\n",
       "    <tr>\n",
       "      <td>6366</td>\n",
       "      <td>F</td>\n",
       "      <td>Y</td>\n",
       "      <td>Y</td>\n",
       "      <td>1</td>\n",
       "      <td>1575000.0</td>\n",
       "      <td>Commercial associate</td>\n",
       "      <td>Higher education</td>\n",
       "      <td>Single / not married</td>\n",
       "      <td>House / apartment</td>\n",
       "      <td>Accountants</td>\n",
       "      <td>2</td>\n",
       "      <td>27</td>\n",
       "      <td>6</td>\n",
       "      <td>0</td>\n",
       "    </tr>\n",
       "  </tbody>\n",
       "</table>\n",
       "</div>"
      ],
      "text/plain": [
       "     Gender OWN_CAR OWN_REALTY  CNT_CHILDREN    ANN_INC               INC_CAT  \\\n",
       "6366      F       Y          Y             1  1575000.0  Commercial associate   \n",
       "\n",
       "               EDU_LVL                STATUS             LIVING  \\\n",
       "6366  Higher education  Single / not married  House / apartment   \n",
       "\n",
       "     OCCUPATION_TYPE  FAM_CNT  Age  Experience  target  \n",
       "6366     Accountants        2   27           6       0  "
      ]
     },
     "execution_count": 14,
     "metadata": {},
     "output_type": "execute_result"
    }
   ],
   "source": [
    "#Wich client has the highest annual income?\n",
    "df[df.ANN_INC==df.ANN_INC.max()]"
   ]
  },
  {
   "cell_type": "markdown",
   "metadata": {},
   "source": [
    "**Wich client has the lowest annual income?**"
   ]
  },
  {
   "cell_type": "code",
   "execution_count": 15,
   "metadata": {},
   "outputs": [
    {
     "data": {
      "text/html": [
       "<div>\n",
       "<style scoped>\n",
       "    .dataframe tbody tr th:only-of-type {\n",
       "        vertical-align: middle;\n",
       "    }\n",
       "\n",
       "    .dataframe tbody tr th {\n",
       "        vertical-align: top;\n",
       "    }\n",
       "\n",
       "    .dataframe thead th {\n",
       "        text-align: right;\n",
       "    }\n",
       "</style>\n",
       "<table border=\"1\" class=\"dataframe\">\n",
       "  <thead>\n",
       "    <tr style=\"text-align: right;\">\n",
       "      <th></th>\n",
       "      <th>Gender</th>\n",
       "      <th>OWN_CAR</th>\n",
       "      <th>OWN_REALTY</th>\n",
       "      <th>CNT_CHILDREN</th>\n",
       "      <th>ANN_INC</th>\n",
       "      <th>INC_CAT</th>\n",
       "      <th>EDU_LVL</th>\n",
       "      <th>STATUS</th>\n",
       "      <th>LIVING</th>\n",
       "      <th>OCCUPATION_TYPE</th>\n",
       "      <th>FAM_CNT</th>\n",
       "      <th>Age</th>\n",
       "      <th>Experience</th>\n",
       "      <th>target</th>\n",
       "    </tr>\n",
       "  </thead>\n",
       "  <tbody>\n",
       "    <tr>\n",
       "      <td>5840</td>\n",
       "      <td>F</td>\n",
       "      <td>N</td>\n",
       "      <td>N</td>\n",
       "      <td>0</td>\n",
       "      <td>27000.0</td>\n",
       "      <td>Working</td>\n",
       "      <td>Higher education</td>\n",
       "      <td>Civil marriage</td>\n",
       "      <td>House / apartment</td>\n",
       "      <td>Accountants</td>\n",
       "      <td>2</td>\n",
       "      <td>40</td>\n",
       "      <td>13</td>\n",
       "      <td>0</td>\n",
       "    </tr>\n",
       "    <tr>\n",
       "      <td>6376</td>\n",
       "      <td>F</td>\n",
       "      <td>N</td>\n",
       "      <td>Y</td>\n",
       "      <td>0</td>\n",
       "      <td>27000.0</td>\n",
       "      <td>Working</td>\n",
       "      <td>Secondary / secondary special</td>\n",
       "      <td>Married</td>\n",
       "      <td>House / apartment</td>\n",
       "      <td>Accountants</td>\n",
       "      <td>2</td>\n",
       "      <td>52</td>\n",
       "      <td>3</td>\n",
       "      <td>0</td>\n",
       "    </tr>\n",
       "  </tbody>\n",
       "</table>\n",
       "</div>"
      ],
      "text/plain": [
       "     Gender OWN_CAR OWN_REALTY  CNT_CHILDREN  ANN_INC  INC_CAT  \\\n",
       "5840      F       N          N             0  27000.0  Working   \n",
       "6376      F       N          Y             0  27000.0  Working   \n",
       "\n",
       "                            EDU_LVL          STATUS             LIVING  \\\n",
       "5840               Higher education  Civil marriage  House / apartment   \n",
       "6376  Secondary / secondary special         Married  House / apartment   \n",
       "\n",
       "     OCCUPATION_TYPE  FAM_CNT  Age  Experience  target  \n",
       "5840     Accountants        2   40          13       0  \n",
       "6376     Accountants        2   52           3       0  "
      ]
     },
     "execution_count": 15,
     "metadata": {},
     "output_type": "execute_result"
    }
   ],
   "source": [
    "#Wich client has the lowest annual income?\n",
    "df[df.ANN_INC==df.ANN_INC.min()]"
   ]
  },
  {
   "cell_type": "markdown",
   "metadata": {},
   "source": [
    "**Wich approved client with the highest annual income?**"
   ]
  },
  {
   "cell_type": "code",
   "execution_count": 16,
   "metadata": {},
   "outputs": [
    {
     "data": {
      "text/html": [
       "<div>\n",
       "<style scoped>\n",
       "    .dataframe tbody tr th:only-of-type {\n",
       "        vertical-align: middle;\n",
       "    }\n",
       "\n",
       "    .dataframe tbody tr th {\n",
       "        vertical-align: top;\n",
       "    }\n",
       "\n",
       "    .dataframe thead th {\n",
       "        text-align: right;\n",
       "    }\n",
       "</style>\n",
       "<table border=\"1\" class=\"dataframe\">\n",
       "  <thead>\n",
       "    <tr style=\"text-align: right;\">\n",
       "      <th></th>\n",
       "      <th>Gender</th>\n",
       "      <th>OWN_CAR</th>\n",
       "      <th>OWN_REALTY</th>\n",
       "      <th>CNT_CHILDREN</th>\n",
       "      <th>ANN_INC</th>\n",
       "      <th>INC_CAT</th>\n",
       "      <th>EDU_LVL</th>\n",
       "      <th>STATUS</th>\n",
       "      <th>LIVING</th>\n",
       "      <th>OCCUPATION_TYPE</th>\n",
       "      <th>FAM_CNT</th>\n",
       "      <th>Age</th>\n",
       "      <th>Experience</th>\n",
       "      <th>target</th>\n",
       "    </tr>\n",
       "  </thead>\n",
       "  <tbody>\n",
       "    <tr>\n",
       "      <td>3371</td>\n",
       "      <td>M</td>\n",
       "      <td>Y</td>\n",
       "      <td>Y</td>\n",
       "      <td>2</td>\n",
       "      <td>900000.0</td>\n",
       "      <td>Commercial associate</td>\n",
       "      <td>Higher education</td>\n",
       "      <td>Married</td>\n",
       "      <td>House / apartment</td>\n",
       "      <td>Accountants</td>\n",
       "      <td>4</td>\n",
       "      <td>27</td>\n",
       "      <td>2</td>\n",
       "      <td>1</td>\n",
       "    </tr>\n",
       "  </tbody>\n",
       "</table>\n",
       "</div>"
      ],
      "text/plain": [
       "     Gender OWN_CAR OWN_REALTY  CNT_CHILDREN   ANN_INC               INC_CAT  \\\n",
       "3371      M       Y          Y             2  900000.0  Commercial associate   \n",
       "\n",
       "               EDU_LVL   STATUS             LIVING OCCUPATION_TYPE  FAM_CNT  \\\n",
       "3371  Higher education  Married  House / apartment     Accountants        4   \n",
       "\n",
       "      Age  Experience  target  \n",
       "3371   27           2       1  "
      ]
     },
     "execution_count": 16,
     "metadata": {},
     "output_type": "execute_result"
    }
   ],
   "source": [
    "#Wich approved client with the highest annual income\n",
    "ap=df.groupby('target').get_group(1)\n",
    "ap[ap.ANN_INC==ap.ANN_INC.max()]"
   ]
  },
  {
   "cell_type": "markdown",
   "metadata": {},
   "source": [
    "**Wich approved client with the lowest annual income?**"
   ]
  },
  {
   "cell_type": "code",
   "execution_count": 17,
   "metadata": {
    "scrolled": true
   },
   "outputs": [
    {
     "data": {
      "text/html": [
       "<div>\n",
       "<style scoped>\n",
       "    .dataframe tbody tr th:only-of-type {\n",
       "        vertical-align: middle;\n",
       "    }\n",
       "\n",
       "    .dataframe tbody tr th {\n",
       "        vertical-align: top;\n",
       "    }\n",
       "\n",
       "    .dataframe thead th {\n",
       "        text-align: right;\n",
       "    }\n",
       "</style>\n",
       "<table border=\"1\" class=\"dataframe\">\n",
       "  <thead>\n",
       "    <tr style=\"text-align: right;\">\n",
       "      <th></th>\n",
       "      <th>Gender</th>\n",
       "      <th>OWN_CAR</th>\n",
       "      <th>OWN_REALTY</th>\n",
       "      <th>CNT_CHILDREN</th>\n",
       "      <th>ANN_INC</th>\n",
       "      <th>INC_CAT</th>\n",
       "      <th>EDU_LVL</th>\n",
       "      <th>STATUS</th>\n",
       "      <th>LIVING</th>\n",
       "      <th>OCCUPATION_TYPE</th>\n",
       "      <th>FAM_CNT</th>\n",
       "      <th>Age</th>\n",
       "      <th>Experience</th>\n",
       "      <th>target</th>\n",
       "    </tr>\n",
       "  </thead>\n",
       "  <tbody>\n",
       "    <tr>\n",
       "      <td>3809</td>\n",
       "      <td>F</td>\n",
       "      <td>N</td>\n",
       "      <td>N</td>\n",
       "      <td>0</td>\n",
       "      <td>36000.0</td>\n",
       "      <td>Working</td>\n",
       "      <td>Secondary / secondary special</td>\n",
       "      <td>Married</td>\n",
       "      <td>With parents</td>\n",
       "      <td>Accountants</td>\n",
       "      <td>2</td>\n",
       "      <td>39</td>\n",
       "      <td>1</td>\n",
       "      <td>1</td>\n",
       "    </tr>\n",
       "  </tbody>\n",
       "</table>\n",
       "</div>"
      ],
      "text/plain": [
       "     Gender OWN_CAR OWN_REALTY  CNT_CHILDREN  ANN_INC  INC_CAT  \\\n",
       "3809      F       N          N             0  36000.0  Working   \n",
       "\n",
       "                            EDU_LVL   STATUS        LIVING OCCUPATION_TYPE  \\\n",
       "3809  Secondary / secondary special  Married  With parents     Accountants   \n",
       "\n",
       "      FAM_CNT  Age  Experience  target  \n",
       "3809        2   39           1       1  "
      ]
     },
     "execution_count": 17,
     "metadata": {},
     "output_type": "execute_result"
    }
   ],
   "source": [
    "#Wich approved client with the lowest annuel income\n",
    "ap=df.groupby('target').get_group(1)\n",
    "ap[ap.ANN_INC==ap.ANN_INC.min()]"
   ]
  },
  {
   "cell_type": "markdown",
   "metadata": {},
   "source": [
    "**% of approved clients with a car and % of clients without car**"
   ]
  },
  {
   "cell_type": "code",
   "execution_count": 18,
   "metadata": {
    "scrolled": false
   },
   "outputs": [
    {
     "name": "stdout",
     "output_type": "stream",
     "text": [
      "40 % of Approved clients are owning a car\n",
      " 60 % of Approved clients are not owning a car\n",
      "41 % of Declined clients are owning a car\n",
      " 59 % of Declined clients are not owning a car\n"
     ]
    }
   ],
   "source": [
    "#How many approved clients are owning a car and how many are not?\n",
    "l=0\n",
    "for i in ap.OWN_CAR:\n",
    "    if i=='Y':\n",
    "        l+=1\n",
    "print(round((l/num_ap)*100),'% of Approved clients are owning a car\\n',round(((num_ap-l)/num_ap)*100),'% of Approved clients are not owning a car')\n",
    "\n",
    "l=0\n",
    "for i in dec.OWN_CAR:\n",
    "    if i=='Y':\n",
    "        l+=1\n",
    "print(round((l/num_dec)*100),'% of Declined clients are owning a car\\n',round(((num_dec-l)/num_dec)*100),'% of Declined clients are not owning a car')      "
   ]
  },
  {
   "cell_type": "markdown",
   "metadata": {},
   "source": [
    "**% of approved clients with a house and % of clients without a house**"
   ]
  },
  {
   "cell_type": "code",
   "execution_count": 19,
   "metadata": {},
   "outputs": [
    {
     "name": "stdout",
     "output_type": "stream",
     "text": [
      "57 % of Approved clients are owning a house\n",
      " 43 % of Approved clients are not owning a house\n",
      "66 % of Declined clients are owning a house\n",
      " 34 % of Declined clients are not owning a house\n"
     ]
    }
   ],
   "source": [
    "#How many approved clients are owning a house and how many are not?\n",
    "l=0\n",
    "for i in ap.OWN_REALTY:\n",
    "    if i=='Y':\n",
    "        l+=1\n",
    "print(round((l/num_ap)*100),'% of Approved clients are owning a house\\n',round(((num_ap-l)/num_ap)*100),'% of Approved clients are not owning a house')\n",
    "\n",
    "l=0\n",
    "for i in dec.OWN_REALTY:\n",
    "    if i=='Y':\n",
    "        l+=1\n",
    "print(round((l/num_dec)*100),'% of Declined clients are owning a house\\n',round(((num_dec-l)/num_dec)*100),'% of Declined clients are not owning a house')      "
   ]
  },
  {
   "cell_type": "markdown",
   "metadata": {},
   "source": [
    "### 2.3.Data Viz"
   ]
  },
  {
   "cell_type": "markdown",
   "metadata": {},
   "source": [
    "**Categorical barplots**"
   ]
  },
  {
   "cell_type": "markdown",
   "metadata": {},
   "source": [
    "After visualization of our categorical features with barplots, such as for income category we find that all clients who are pensioners have been approved and all Students have been declined. For Occupation type we find that all Accountants have been approved as well and all Security Staff and Sales Staff have been declined.For Status most of Single/not married and widow clients have been approved. For Education level none of approved clients have an academic degree."
   ]
  },
  {
   "cell_type": "code",
   "execution_count": 20,
   "metadata": {},
   "outputs": [
    {
     "data": {
      "text/plain": [
       "<seaborn.axisgrid.FacetGrid at 0x2118cb606c8>"
      ]
     },
     "execution_count": 20,
     "metadata": {},
     "output_type": "execute_result"
    },
    {
     "data": {
      "image/png": "[encoded data removed]",
      "text/plain": [
       "<Figure size 360x360 with 1 Axes>"
      ]
     },
     "metadata": {
      "needs_background": "light"
     },
     "output_type": "display_data"
    }
   ],
   "source": [
    "sns.catplot(x=\"INC_CAT\", y=\"target\", kind=\"bar\", data=df)"
   ]
  },
  {
   "cell_type": "code",
   "execution_count": 21,
   "metadata": {},
   "outputs": [
    {
     "data": {
      "text/plain": [
       "<seaborn.axisgrid.FacetGrid at 0x2118ca61208>"
      ]
     },
     "execution_count": 21,
     "metadata": {},
     "output_type": "execute_result"
    },
    {
     "data": {
      "image/png": "[encoded data removed]",
      "text/plain": [
       "<Figure size 360x360 with 1 Axes>"
      ]
     },
     "metadata": {
      "needs_background": "light"
     },
     "output_type": "display_data"
    }
   ],
   "source": [
    "sns.catplot(x=\"OCCUPATION_TYPE\", y=\"target\", kind=\"bar\", data=df)"
   ]
  },
  {
   "cell_type": "code",
   "execution_count": 22,
   "metadata": {},
   "outputs": [
    {
     "data": {
      "text/plain": [
       "<seaborn.axisgrid.FacetGrid at 0x2118b93e488>"
      ]
     },
     "execution_count": 22,
     "metadata": {},
     "output_type": "execute_result"
    },
    {
     "data": {
      "image/png": "[encoded data removed]",
      "text/plain": [
       "<Figure size 360x360 with 1 Axes>"
      ]
     },
     "metadata": {
      "needs_background": "light"
     },
     "output_type": "display_data"
    }
   ],
   "source": [
    "sns.catplot(x=\"STATUS\", y=\"target\", kind=\"bar\", data=df)"
   ]
  },
  {
   "cell_type": "code",
   "execution_count": 23,
   "metadata": {},
   "outputs": [
    {
     "data": {
      "text/plain": [
       "<seaborn.axisgrid.FacetGrid at 0x2118a18da48>"
      ]
     },
     "execution_count": 23,
     "metadata": {},
     "output_type": "execute_result"
    },
    {
     "data": {
      "image/png": "[encoded data removed]",
      "text/plain": [
       "<Figure size 360x360 with 1 Axes>"
      ]
     },
     "metadata": {
      "needs_background": "light"
     },
     "output_type": "display_data"
    }
   ],
   "source": [
    "sns.catplot(x=\"EDU_LVL\", y=\"target\", kind=\"bar\", data=df)"
   ]
  },
  {
   "cell_type": "markdown",
   "metadata": {},
   "source": [
    "**Distribution Plots**"
   ]
  },
  {
   "cell_type": "markdown",
   "metadata": {},
   "source": [
    "For distributions we find that Annual Income, Count Children, Family Count and Experience are **positives Skeweds**. For Age feature is a **Normal** distribution."
   ]
  },
  {
   "cell_type": "code",
   "execution_count": 24,
   "metadata": {},
   "outputs": [
    {
     "data": {
      "text/plain": [
       "<matplotlib.axes._subplots.AxesSubplot at 0x2118b29a8c8>"
      ]
     },
     "execution_count": 24,
     "metadata": {},
     "output_type": "execute_result"
    },
    {
     "data": {
      "image/png": "[encoded data removed]",
      "text/plain": [
       "<Figure size 432x288 with 1 Axes>"
      ]
     },
     "metadata": {
      "needs_background": "light"
     },
     "output_type": "display_data"
    }
   ],
   "source": [
    "sns.distplot(df.ANN_INC)"
   ]
  },
  {
   "cell_type": "code",
   "execution_count": 25,
   "metadata": {},
   "outputs": [
    {
     "data": {
      "text/plain": [
       "<matplotlib.axes._subplots.AxesSubplot at 0x2118b7859c8>"
      ]
     },
     "execution_count": 25,
     "metadata": {},
     "output_type": "execute_result"
    },
    {
     "data": {
      "image/png": "[encoded data removed]",
      "text/plain": [
       "<Figure size 432x288 with 1 Axes>"
      ]
     },
     "metadata": {
      "needs_background": "light"
     },
     "output_type": "display_data"
    }
   ],
   "source": [
    "sns.distplot(df.CNT_CHILDREN)"
   ]
  },
  {
   "cell_type": "code",
   "execution_count": 26,
   "metadata": {},
   "outputs": [
    {
     "data": {
      "text/plain": [
       "<matplotlib.axes._subplots.AxesSubplot at 0x2118c38b908>"
      ]
     },
     "execution_count": 26,
     "metadata": {},
     "output_type": "execute_result"
    },
    {
     "data": {
      "image/png": "[encoded data removed]",
      "text/plain": [
       "<Figure size 432x288 with 1 Axes>"
      ]
     },
     "metadata": {
      "needs_background": "light"
     },
     "output_type": "display_data"
    }
   ],
   "source": [
    "sns.distplot(df.FAM_CNT)"
   ]
  },
  {
   "cell_type": "code",
   "execution_count": 27,
   "metadata": {},
   "outputs": [
    {
     "data": {
      "text/plain": [
       "<matplotlib.axes._subplots.AxesSubplot at 0x2118c464288>"
      ]
     },
     "execution_count": 27,
     "metadata": {},
     "output_type": "execute_result"
    },
    {
     "data": {
      "image/png": "[encoded data removed]",
      "text/plain": [
       "<Figure size 432x288 with 1 Axes>"
      ]
     },
     "metadata": {
      "needs_background": "light"
     },
     "output_type": "display_data"
    }
   ],
   "source": [
    "sns.distplot(df.Age)"
   ]
  },
  {
   "cell_type": "code",
   "execution_count": 28,
   "metadata": {},
   "outputs": [
    {
     "data": {
      "text/plain": [
       "<matplotlib.axes._subplots.AxesSubplot at 0x2118c554448>"
      ]
     },
     "execution_count": 28,
     "metadata": {},
     "output_type": "execute_result"
    },
    {
     "data": {
      "image/png": "[encoded data removed]",
      "text/plain": [
       "<Figure size 432x288 with 1 Axes>"
      ]
     },
     "metadata": {
      "needs_background": "light"
     },
     "output_type": "display_data"
    }
   ],
   "source": [
    "sns.distplot(df.Experience)"
   ]
  },
  {
   "cell_type": "markdown",
   "metadata": {},
   "source": [
    "**Box Plots**"
   ]
  },
  {
   "cell_type": "markdown",
   "metadata": {},
   "source": [
    "We find that there are outliers in our dataset features except Age wich is expected since we have all our features are positives skeweds except Age wich is a normal distribution."
   ]
  },
  {
   "cell_type": "code",
   "execution_count": 29,
   "metadata": {
    "scrolled": true
   },
   "outputs": [
    {
     "data": {
      "text/plain": [
       "<matplotlib.axes._subplots.AxesSubplot at 0x2118c614f48>"
      ]
     },
     "execution_count": 29,
     "metadata": {},
     "output_type": "execute_result"
    },
    {
     "data": {
      "image/png": "[encoded data removed]",
      "text/plain": [
       "<Figure size 432x288 with 1 Axes>"
      ]
     },
     "metadata": {
      "needs_background": "light"
     },
     "output_type": "display_data"
    }
   ],
   "source": [
    "sns.boxplot(df.ANN_INC)"
   ]
  },
  {
   "cell_type": "code",
   "execution_count": 30,
   "metadata": {},
   "outputs": [
    {
     "data": {
      "text/plain": [
       "<matplotlib.axes._subplots.AxesSubplot at 0x2118b375a08>"
      ]
     },
     "execution_count": 30,
     "metadata": {},
     "output_type": "execute_result"
    },
    {
     "data": {
      "image/png": "[encoded data removed]",
      "text/plain": [
       "<Figure size 432x288 with 1 Axes>"
      ]
     },
     "metadata": {
      "needs_background": "light"
     },
     "output_type": "display_data"
    }
   ],
   "source": [
    "sns.boxplot(df.FAM_CNT)"
   ]
  },
  {
   "cell_type": "code",
   "execution_count": 31,
   "metadata": {},
   "outputs": [
    {
     "data": {
      "text/plain": [
       "<matplotlib.axes._subplots.AxesSubplot at 0x2118b937d48>"
      ]
     },
     "execution_count": 31,
     "metadata": {},
     "output_type": "execute_result"
    },
    {
     "data": {
      "image/png": "[encoded data removed]",
      "text/plain": [
       "<Figure size 432x288 with 1 Axes>"
      ]
     },
     "metadata": {
      "needs_background": "light"
     },
     "output_type": "display_data"
    }
   ],
   "source": [
    "sns.boxplot(df.CNT_CHILDREN)"
   ]
  },
  {
   "cell_type": "code",
   "execution_count": 32,
   "metadata": {},
   "outputs": [
    {
     "data": {
      "text/plain": [
       "<matplotlib.axes._subplots.AxesSubplot at 0x2118bd462c8>"
      ]
     },
     "execution_count": 32,
     "metadata": {},
     "output_type": "execute_result"
    },
    {
     "data": {
      "image/png": "[encoded data removed]",
      "text/plain": [
       "<Figure size 432x288 with 1 Axes>"
      ]
     },
     "metadata": {
      "needs_background": "light"
     },
     "output_type": "display_data"
    }
   ],
   "source": [
    "sns.boxplot(df.Age)"
   ]
  },
  {
   "cell_type": "code",
   "execution_count": 33,
   "metadata": {},
   "outputs": [
    {
     "data": {
      "text/plain": [
       "<matplotlib.axes._subplots.AxesSubplot at 0x2118b295048>"
      ]
     },
     "execution_count": 33,
     "metadata": {},
     "output_type": "execute_result"
    },
    {
     "data": {
      "image/png": "[encoded data removed]",
      "text/plain": [
       "<Figure size 432x288 with 1 Axes>"
      ]
     },
     "metadata": {
      "needs_background": "light"
     },
     "output_type": "display_data"
    }
   ],
   "source": [
    "sns.boxplot(df.Experience)"
   ]
  },
  {
   "cell_type": "markdown",
   "metadata": {},
   "source": [
    "**Correlation Matrix**"
   ]
  },
  {
   "cell_type": "code",
   "execution_count": 34,
   "metadata": {},
   "outputs": [
    {
     "data": {
      "text/html": [
       "<div>\n",
       "<style scoped>\n",
       "    .dataframe tbody tr th:only-of-type {\n",
       "        vertical-align: middle;\n",
       "    }\n",
       "\n",
       "    .dataframe tbody tr th {\n",
       "        vertical-align: top;\n",
       "    }\n",
       "\n",
       "    .dataframe thead th {\n",
       "        text-align: right;\n",
       "    }\n",
       "</style>\n",
       "<table border=\"1\" class=\"dataframe\">\n",
       "  <thead>\n",
       "    <tr style=\"text-align: right;\">\n",
       "      <th></th>\n",
       "      <th>CNT_CHILDREN</th>\n",
       "      <th>ANN_INC</th>\n",
       "      <th>FAM_CNT</th>\n",
       "      <th>Age</th>\n",
       "      <th>Experience</th>\n",
       "      <th>target</th>\n",
       "    </tr>\n",
       "  </thead>\n",
       "  <tbody>\n",
       "    <tr>\n",
       "      <td>CNT_CHILDREN</td>\n",
       "      <td>1.000000</td>\n",
       "      <td>-0.007927</td>\n",
       "      <td>0.904397</td>\n",
       "      <td>-0.236425</td>\n",
       "      <td>-0.057482</td>\n",
       "      <td>0.009949</td>\n",
       "    </tr>\n",
       "    <tr>\n",
       "      <td>ANN_INC</td>\n",
       "      <td>-0.007927</td>\n",
       "      <td>1.000000</td>\n",
       "      <td>-0.012036</td>\n",
       "      <td>0.071059</td>\n",
       "      <td>0.026825</td>\n",
       "      <td>0.017780</td>\n",
       "    </tr>\n",
       "    <tr>\n",
       "      <td>FAM_CNT</td>\n",
       "      <td>0.904397</td>\n",
       "      <td>-0.012036</td>\n",
       "      <td>1.000000</td>\n",
       "      <td>-0.180083</td>\n",
       "      <td>-0.033779</td>\n",
       "      <td>-0.001563</td>\n",
       "    </tr>\n",
       "    <tr>\n",
       "      <td>Age</td>\n",
       "      <td>-0.236425</td>\n",
       "      <td>0.071059</td>\n",
       "      <td>-0.180083</td>\n",
       "      <td>1.000000</td>\n",
       "      <td>0.335094</td>\n",
       "      <td>-0.003402</td>\n",
       "    </tr>\n",
       "    <tr>\n",
       "      <td>Experience</td>\n",
       "      <td>-0.057482</td>\n",
       "      <td>0.026825</td>\n",
       "      <td>-0.033779</td>\n",
       "      <td>0.335094</td>\n",
       "      <td>1.000000</td>\n",
       "      <td>-0.035134</td>\n",
       "    </tr>\n",
       "    <tr>\n",
       "      <td>target</td>\n",
       "      <td>0.009949</td>\n",
       "      <td>0.017780</td>\n",
       "      <td>-0.001563</td>\n",
       "      <td>-0.003402</td>\n",
       "      <td>-0.035134</td>\n",
       "      <td>1.000000</td>\n",
       "    </tr>\n",
       "  </tbody>\n",
       "</table>\n",
       "</div>"
      ],
      "text/plain": [
       "              CNT_CHILDREN   ANN_INC   FAM_CNT       Age  Experience    target\n",
       "CNT_CHILDREN      1.000000 -0.007927  0.904397 -0.236425   -0.057482  0.009949\n",
       "ANN_INC          -0.007927  1.000000 -0.012036  0.071059    0.026825  0.017780\n",
       "FAM_CNT           0.904397 -0.012036  1.000000 -0.180083   -0.033779 -0.001563\n",
       "Age              -0.236425  0.071059 -0.180083  1.000000    0.335094 -0.003402\n",
       "Experience       -0.057482  0.026825 -0.033779  0.335094    1.000000 -0.035134\n",
       "target            0.009949  0.017780 -0.001563 -0.003402   -0.035134  1.000000"
      ]
     },
     "execution_count": 34,
     "metadata": {},
     "output_type": "execute_result"
    }
   ],
   "source": [
    "corr=df.corr()\n",
    "corr"
   ]
  },
  {
   "cell_type": "markdown",
   "metadata": {},
   "source": [
    "**HeatMap plot For correlation**"
   ]
  },
  {
   "cell_type": "code",
   "execution_count": 35,
   "metadata": {},
   "outputs": [
    {
     "data": {
      "text/plain": [
       "<matplotlib.axes._subplots.AxesSubplot at 0x2118bf0de48>"
      ]
     },
     "execution_count": 35,
     "metadata": {},
     "output_type": "execute_result"
    },
    {
     "data": {
      "image/png": "[encoded data removed]",
      "text/plain": [
       "<Figure size 432x288 with 2 Axes>"
      ]
     },
     "metadata": {
      "needs_background": "light"
     },
     "output_type": "display_data"
    }
   ],
   "source": [
    "sns.heatmap(corr)"
   ]
  },
  {
   "cell_type": "markdown",
   "metadata": {},
   "source": [
    "## 3.Model Prediction And Preprocessing"
   ]
  },
  {
   "cell_type": "markdown",
   "metadata": {},
   "source": [
    "### 3.1.Preprocessing"
   ]
  },
  {
   "cell_type": "markdown",
   "metadata": {},
   "source": [
    "**Label Incoding**"
   ]
  },
  {
   "cell_type": "markdown",
   "metadata": {},
   "source": [
    "We'll LabelEncode our Categorical features."
   ]
  },
  {
   "cell_type": "code",
   "execution_count": 36,
   "metadata": {},
   "outputs": [],
   "source": [
    "#Preprocessing and model prediction\n",
    "le = preprocessing.LabelEncoder()\n",
    "le.fit(df.OWN_REALTY)\n",
    "df['OWN_REALTY_encoded']=le.transform(df.OWN_REALTY)\n",
    "le.fit(df.Gender)\n",
    "df['Gender_encoded']=le.transform(df.Gender)\n",
    "le.fit(df.OWN_CAR)\n",
    "df['OWN_CAR_encoded']=le.transform(df.OWN_CAR)\n",
    "le.fit(df.INC_CAT)\n",
    "df['INC_CAT_encoded']=le.transform(df.INC_CAT)\n",
    "le.fit(df.STATUS)\n",
    "df['STATUS_encoded']=le.transform(df.STATUS)\n",
    "le.fit(df.OCCUPATION_TYPE)\n",
    "df['OCCUPATION_TYPE_encoded']=le.transform(df.OCCUPATION_TYPE)\n",
    "le.fit(df.LIVING)\n",
    "df['LIVING_encoded']=le.transform(df.LIVING)\n",
    "le.fit(df.EDU_LVL)\n",
    "df['EDU_LVL_encoded']=le.transform(df.EDU_LVL)"
   ]
  },
  {
   "cell_type": "markdown",
   "metadata": {},
   "source": [
    "**Dropping NonEncoded Categorical Features**"
   ]
  },
  {
   "cell_type": "code",
   "execution_count": 37,
   "metadata": {},
   "outputs": [
    {
     "data": {
      "text/html": [
       "<div>\n",
       "<style scoped>\n",
       "    .dataframe tbody tr th:only-of-type {\n",
       "        vertical-align: middle;\n",
       "    }\n",
       "\n",
       "    .dataframe tbody tr th {\n",
       "        vertical-align: top;\n",
       "    }\n",
       "\n",
       "    .dataframe thead th {\n",
       "        text-align: right;\n",
       "    }\n",
       "</style>\n",
       "<table border=\"1\" class=\"dataframe\">\n",
       "  <thead>\n",
       "    <tr style=\"text-align: right;\">\n",
       "      <th></th>\n",
       "      <th>CNT_CHILDREN</th>\n",
       "      <th>ANN_INC</th>\n",
       "      <th>FAM_CNT</th>\n",
       "      <th>Age</th>\n",
       "      <th>Experience</th>\n",
       "      <th>target</th>\n",
       "      <th>OWN_REALTY_encoded</th>\n",
       "      <th>Gender_encoded</th>\n",
       "      <th>OWN_CAR_encoded</th>\n",
       "      <th>INC_CAT_encoded</th>\n",
       "      <th>STATUS_encoded</th>\n",
       "      <th>OCCUPATION_TYPE_encoded</th>\n",
       "      <th>LIVING_encoded</th>\n",
       "      <th>EDU_LVL_encoded</th>\n",
       "    </tr>\n",
       "  </thead>\n",
       "  <tbody>\n",
       "    <tr>\n",
       "      <td>0</td>\n",
       "      <td>0</td>\n",
       "      <td>112500.0</td>\n",
       "      <td>2</td>\n",
       "      <td>58</td>\n",
       "      <td>3</td>\n",
       "      <td>0</td>\n",
       "      <td>1</td>\n",
       "      <td>1</td>\n",
       "      <td>1</td>\n",
       "      <td>4</td>\n",
       "      <td>1</td>\n",
       "      <td>2</td>\n",
       "      <td>1</td>\n",
       "      <td>4</td>\n",
       "    </tr>\n",
       "    <tr>\n",
       "      <td>1</td>\n",
       "      <td>0</td>\n",
       "      <td>270000.0</td>\n",
       "      <td>1</td>\n",
       "      <td>52</td>\n",
       "      <td>8</td>\n",
       "      <td>0</td>\n",
       "      <td>1</td>\n",
       "      <td>0</td>\n",
       "      <td>0</td>\n",
       "      <td>0</td>\n",
       "      <td>3</td>\n",
       "      <td>1</td>\n",
       "      <td>1</td>\n",
       "      <td>4</td>\n",
       "    </tr>\n",
       "    <tr>\n",
       "      <td>2</td>\n",
       "      <td>0</td>\n",
       "      <td>270000.0</td>\n",
       "      <td>2</td>\n",
       "      <td>46</td>\n",
       "      <td>2</td>\n",
       "      <td>0</td>\n",
       "      <td>1</td>\n",
       "      <td>1</td>\n",
       "      <td>1</td>\n",
       "      <td>4</td>\n",
       "      <td>1</td>\n",
       "      <td>0</td>\n",
       "      <td>1</td>\n",
       "      <td>1</td>\n",
       "    </tr>\n",
       "    <tr>\n",
       "      <td>3</td>\n",
       "      <td>0</td>\n",
       "      <td>135000.0</td>\n",
       "      <td>2</td>\n",
       "      <td>48</td>\n",
       "      <td>3</td>\n",
       "      <td>0</td>\n",
       "      <td>1</td>\n",
       "      <td>1</td>\n",
       "      <td>1</td>\n",
       "      <td>0</td>\n",
       "      <td>1</td>\n",
       "      <td>0</td>\n",
       "      <td>1</td>\n",
       "      <td>4</td>\n",
       "    </tr>\n",
       "    <tr>\n",
       "      <td>4</td>\n",
       "      <td>0</td>\n",
       "      <td>130500.0</td>\n",
       "      <td>2</td>\n",
       "      <td>29</td>\n",
       "      <td>3</td>\n",
       "      <td>0</td>\n",
       "      <td>0</td>\n",
       "      <td>0</td>\n",
       "      <td>1</td>\n",
       "      <td>4</td>\n",
       "      <td>1</td>\n",
       "      <td>0</td>\n",
       "      <td>1</td>\n",
       "      <td>2</td>\n",
       "    </tr>\n",
       "    <tr>\n",
       "      <td>...</td>\n",
       "      <td>...</td>\n",
       "      <td>...</td>\n",
       "      <td>...</td>\n",
       "      <td>...</td>\n",
       "      <td>...</td>\n",
       "      <td>...</td>\n",
       "      <td>...</td>\n",
       "      <td>...</td>\n",
       "      <td>...</td>\n",
       "      <td>...</td>\n",
       "      <td>...</td>\n",
       "      <td>...</td>\n",
       "      <td>...</td>\n",
       "      <td>...</td>\n",
       "    </tr>\n",
       "    <tr>\n",
       "      <td>6880</td>\n",
       "      <td>0</td>\n",
       "      <td>315000.0</td>\n",
       "      <td>2</td>\n",
       "      <td>47</td>\n",
       "      <td>6</td>\n",
       "      <td>1</td>\n",
       "      <td>1</td>\n",
       "      <td>1</td>\n",
       "      <td>1</td>\n",
       "      <td>4</td>\n",
       "      <td>1</td>\n",
       "      <td>0</td>\n",
       "      <td>1</td>\n",
       "      <td>4</td>\n",
       "    </tr>\n",
       "    <tr>\n",
       "      <td>6881</td>\n",
       "      <td>0</td>\n",
       "      <td>157500.0</td>\n",
       "      <td>2</td>\n",
       "      <td>33</td>\n",
       "      <td>3</td>\n",
       "      <td>1</td>\n",
       "      <td>1</td>\n",
       "      <td>0</td>\n",
       "      <td>0</td>\n",
       "      <td>0</td>\n",
       "      <td>1</td>\n",
       "      <td>0</td>\n",
       "      <td>1</td>\n",
       "      <td>1</td>\n",
       "    </tr>\n",
       "    <tr>\n",
       "      <td>6882</td>\n",
       "      <td>0</td>\n",
       "      <td>157500.0</td>\n",
       "      <td>2</td>\n",
       "      <td>33</td>\n",
       "      <td>3</td>\n",
       "      <td>1</td>\n",
       "      <td>1</td>\n",
       "      <td>0</td>\n",
       "      <td>0</td>\n",
       "      <td>1</td>\n",
       "      <td>1</td>\n",
       "      <td>0</td>\n",
       "      <td>1</td>\n",
       "      <td>1</td>\n",
       "    </tr>\n",
       "    <tr>\n",
       "      <td>6883</td>\n",
       "      <td>0</td>\n",
       "      <td>283500.0</td>\n",
       "      <td>2</td>\n",
       "      <td>49</td>\n",
       "      <td>1</td>\n",
       "      <td>1</td>\n",
       "      <td>1</td>\n",
       "      <td>0</td>\n",
       "      <td>0</td>\n",
       "      <td>4</td>\n",
       "      <td>1</td>\n",
       "      <td>0</td>\n",
       "      <td>1</td>\n",
       "      <td>4</td>\n",
       "    </tr>\n",
       "    <tr>\n",
       "      <td>6884</td>\n",
       "      <td>0</td>\n",
       "      <td>112500.0</td>\n",
       "      <td>1</td>\n",
       "      <td>25</td>\n",
       "      <td>3</td>\n",
       "      <td>1</td>\n",
       "      <td>1</td>\n",
       "      <td>1</td>\n",
       "      <td>0</td>\n",
       "      <td>4</td>\n",
       "      <td>3</td>\n",
       "      <td>0</td>\n",
       "      <td>4</td>\n",
       "      <td>4</td>\n",
       "    </tr>\n",
       "  </tbody>\n",
       "</table>\n",
       "<p>6885 rows × 14 columns</p>\n",
       "</div>"
      ],
      "text/plain": [
       "      CNT_CHILDREN   ANN_INC  FAM_CNT  Age  Experience  target  \\\n",
       "0                0  112500.0        2   58           3       0   \n",
       "1                0  270000.0        1   52           8       0   \n",
       "2                0  270000.0        2   46           2       0   \n",
       "3                0  135000.0        2   48           3       0   \n",
       "4                0  130500.0        2   29           3       0   \n",
       "...            ...       ...      ...  ...         ...     ...   \n",
       "6880             0  315000.0        2   47           6       1   \n",
       "6881             0  157500.0        2   33           3       1   \n",
       "6882             0  157500.0        2   33           3       1   \n",
       "6883             0  283500.0        2   49           1       1   \n",
       "6884             0  112500.0        1   25           3       1   \n",
       "\n",
       "      OWN_REALTY_encoded  Gender_encoded  OWN_CAR_encoded  INC_CAT_encoded  \\\n",
       "0                      1               1                1                4   \n",
       "1                      1               0                0                0   \n",
       "2                      1               1                1                4   \n",
       "3                      1               1                1                0   \n",
       "4                      0               0                1                4   \n",
       "...                  ...             ...              ...              ...   \n",
       "6880                   1               1                1                4   \n",
       "6881                   1               0                0                0   \n",
       "6882                   1               0                0                1   \n",
       "6883                   1               0                0                4   \n",
       "6884                   1               1                0                4   \n",
       "\n",
       "      STATUS_encoded  OCCUPATION_TYPE_encoded  LIVING_encoded  EDU_LVL_encoded  \n",
       "0                  1                        2               1                4  \n",
       "1                  3                        1               1                4  \n",
       "2                  1                        0               1                1  \n",
       "3                  1                        0               1                4  \n",
       "4                  1                        0               1                2  \n",
       "...              ...                      ...             ...              ...  \n",
       "6880               1                        0               1                4  \n",
       "6881               1                        0               1                1  \n",
       "6882               1                        0               1                1  \n",
       "6883               1                        0               1                4  \n",
       "6884               3                        0               4                4  \n",
       "\n",
       "[6885 rows x 14 columns]"
      ]
     },
     "execution_count": 37,
     "metadata": {},
     "output_type": "execute_result"
    }
   ],
   "source": [
    "df = df.drop(columns=['Gender','OWN_CAR','OWN_REALTY','INC_CAT','EDU_LVL','STATUS','LIVING','OCCUPATION_TYPE'])\n",
    "df"
   ]
  },
  {
   "cell_type": "code",
   "execution_count": 38,
   "metadata": {},
   "outputs": [
    {
     "data": {
      "text/html": [
       "<div>\n",
       "<style scoped>\n",
       "    .dataframe tbody tr th:only-of-type {\n",
       "        vertical-align: middle;\n",
       "    }\n",
       "\n",
       "    .dataframe tbody tr th {\n",
       "        vertical-align: top;\n",
       "    }\n",
       "\n",
       "    .dataframe thead th {\n",
       "        text-align: right;\n",
       "    }\n",
       "</style>\n",
       "<table border=\"1\" class=\"dataframe\">\n",
       "  <thead>\n",
       "    <tr style=\"text-align: right;\">\n",
       "      <th></th>\n",
       "      <th>CNT_CHILDREN</th>\n",
       "      <th>ANN_INC</th>\n",
       "      <th>FAM_CNT</th>\n",
       "      <th>Age</th>\n",
       "      <th>Experience</th>\n",
       "      <th>OWN_REALTY_encoded</th>\n",
       "      <th>Gender_encoded</th>\n",
       "      <th>OWN_CAR_encoded</th>\n",
       "      <th>INC_CAT_encoded</th>\n",
       "      <th>STATUS_encoded</th>\n",
       "      <th>OCCUPATION_TYPE_encoded</th>\n",
       "      <th>LIVING_encoded</th>\n",
       "      <th>EDU_LVL_encoded</th>\n",
       "      <th>target</th>\n",
       "    </tr>\n",
       "  </thead>\n",
       "  <tbody>\n",
       "    <tr>\n",
       "      <td>0</td>\n",
       "      <td>0</td>\n",
       "      <td>112500.0</td>\n",
       "      <td>2</td>\n",
       "      <td>58</td>\n",
       "      <td>3</td>\n",
       "      <td>1</td>\n",
       "      <td>1</td>\n",
       "      <td>1</td>\n",
       "      <td>4</td>\n",
       "      <td>1</td>\n",
       "      <td>2</td>\n",
       "      <td>1</td>\n",
       "      <td>4</td>\n",
       "      <td>0</td>\n",
       "    </tr>\n",
       "    <tr>\n",
       "      <td>1</td>\n",
       "      <td>0</td>\n",
       "      <td>270000.0</td>\n",
       "      <td>1</td>\n",
       "      <td>52</td>\n",
       "      <td>8</td>\n",
       "      <td>1</td>\n",
       "      <td>0</td>\n",
       "      <td>0</td>\n",
       "      <td>0</td>\n",
       "      <td>3</td>\n",
       "      <td>1</td>\n",
       "      <td>1</td>\n",
       "      <td>4</td>\n",
       "      <td>0</td>\n",
       "    </tr>\n",
       "    <tr>\n",
       "      <td>2</td>\n",
       "      <td>0</td>\n",
       "      <td>270000.0</td>\n",
       "      <td>2</td>\n",
       "      <td>46</td>\n",
       "      <td>2</td>\n",
       "      <td>1</td>\n",
       "      <td>1</td>\n",
       "      <td>1</td>\n",
       "      <td>4</td>\n",
       "      <td>1</td>\n",
       "      <td>0</td>\n",
       "      <td>1</td>\n",
       "      <td>1</td>\n",
       "      <td>0</td>\n",
       "    </tr>\n",
       "    <tr>\n",
       "      <td>3</td>\n",
       "      <td>0</td>\n",
       "      <td>135000.0</td>\n",
       "      <td>2</td>\n",
       "      <td>48</td>\n",
       "      <td>3</td>\n",
       "      <td>1</td>\n",
       "      <td>1</td>\n",
       "      <td>1</td>\n",
       "      <td>0</td>\n",
       "      <td>1</td>\n",
       "      <td>0</td>\n",
       "      <td>1</td>\n",
       "      <td>4</td>\n",
       "      <td>0</td>\n",
       "    </tr>\n",
       "    <tr>\n",
       "      <td>4</td>\n",
       "      <td>0</td>\n",
       "      <td>130500.0</td>\n",
       "      <td>2</td>\n",
       "      <td>29</td>\n",
       "      <td>3</td>\n",
       "      <td>0</td>\n",
       "      <td>0</td>\n",
       "      <td>1</td>\n",
       "      <td>4</td>\n",
       "      <td>1</td>\n",
       "      <td>0</td>\n",
       "      <td>1</td>\n",
       "      <td>2</td>\n",
       "      <td>0</td>\n",
       "    </tr>\n",
       "    <tr>\n",
       "      <td>...</td>\n",
       "      <td>...</td>\n",
       "      <td>...</td>\n",
       "      <td>...</td>\n",
       "      <td>...</td>\n",
       "      <td>...</td>\n",
       "      <td>...</td>\n",
       "      <td>...</td>\n",
       "      <td>...</td>\n",
       "      <td>...</td>\n",
       "      <td>...</td>\n",
       "      <td>...</td>\n",
       "      <td>...</td>\n",
       "      <td>...</td>\n",
       "      <td>...</td>\n",
       "    </tr>\n",
       "    <tr>\n",
       "      <td>6880</td>\n",
       "      <td>0</td>\n",
       "      <td>315000.0</td>\n",
       "      <td>2</td>\n",
       "      <td>47</td>\n",
       "      <td>6</td>\n",
       "      <td>1</td>\n",
       "      <td>1</td>\n",
       "      <td>1</td>\n",
       "      <td>4</td>\n",
       "      <td>1</td>\n",
       "      <td>0</td>\n",
       "      <td>1</td>\n",
       "      <td>4</td>\n",
       "      <td>1</td>\n",
       "    </tr>\n",
       "    <tr>\n",
       "      <td>6881</td>\n",
       "      <td>0</td>\n",
       "      <td>157500.0</td>\n",
       "      <td>2</td>\n",
       "      <td>33</td>\n",
       "      <td>3</td>\n",
       "      <td>1</td>\n",
       "      <td>0</td>\n",
       "      <td>0</td>\n",
       "      <td>0</td>\n",
       "      <td>1</td>\n",
       "      <td>0</td>\n",
       "      <td>1</td>\n",
       "      <td>1</td>\n",
       "      <td>1</td>\n",
       "    </tr>\n",
       "    <tr>\n",
       "      <td>6882</td>\n",
       "      <td>0</td>\n",
       "      <td>157500.0</td>\n",
       "      <td>2</td>\n",
       "      <td>33</td>\n",
       "      <td>3</td>\n",
       "      <td>1</td>\n",
       "      <td>0</td>\n",
       "      <td>0</td>\n",
       "      <td>1</td>\n",
       "      <td>1</td>\n",
       "      <td>0</td>\n",
       "      <td>1</td>\n",
       "      <td>1</td>\n",
       "      <td>1</td>\n",
       "    </tr>\n",
       "    <tr>\n",
       "      <td>6883</td>\n",
       "      <td>0</td>\n",
       "      <td>283500.0</td>\n",
       "      <td>2</td>\n",
       "      <td>49</td>\n",
       "      <td>1</td>\n",
       "      <td>1</td>\n",
       "      <td>0</td>\n",
       "      <td>0</td>\n",
       "      <td>4</td>\n",
       "      <td>1</td>\n",
       "      <td>0</td>\n",
       "      <td>1</td>\n",
       "      <td>4</td>\n",
       "      <td>1</td>\n",
       "    </tr>\n",
       "    <tr>\n",
       "      <td>6884</td>\n",
       "      <td>0</td>\n",
       "      <td>112500.0</td>\n",
       "      <td>1</td>\n",
       "      <td>25</td>\n",
       "      <td>3</td>\n",
       "      <td>1</td>\n",
       "      <td>1</td>\n",
       "      <td>0</td>\n",
       "      <td>4</td>\n",
       "      <td>3</td>\n",
       "      <td>0</td>\n",
       "      <td>4</td>\n",
       "      <td>4</td>\n",
       "      <td>1</td>\n",
       "    </tr>\n",
       "  </tbody>\n",
       "</table>\n",
       "<p>6885 rows × 14 columns</p>\n",
       "</div>"
      ],
      "text/plain": [
       "      CNT_CHILDREN   ANN_INC  FAM_CNT  Age  Experience  OWN_REALTY_encoded  \\\n",
       "0                0  112500.0        2   58           3                   1   \n",
       "1                0  270000.0        1   52           8                   1   \n",
       "2                0  270000.0        2   46           2                   1   \n",
       "3                0  135000.0        2   48           3                   1   \n",
       "4                0  130500.0        2   29           3                   0   \n",
       "...            ...       ...      ...  ...         ...                 ...   \n",
       "6880             0  315000.0        2   47           6                   1   \n",
       "6881             0  157500.0        2   33           3                   1   \n",
       "6882             0  157500.0        2   33           3                   1   \n",
       "6883             0  283500.0        2   49           1                   1   \n",
       "6884             0  112500.0        1   25           3                   1   \n",
       "\n",
       "      Gender_encoded  OWN_CAR_encoded  INC_CAT_encoded  STATUS_encoded  \\\n",
       "0                  1                1                4               1   \n",
       "1                  0                0                0               3   \n",
       "2                  1                1                4               1   \n",
       "3                  1                1                0               1   \n",
       "4                  0                1                4               1   \n",
       "...              ...              ...              ...             ...   \n",
       "6880               1                1                4               1   \n",
       "6881               0                0                0               1   \n",
       "6882               0                0                1               1   \n",
       "6883               0                0                4               1   \n",
       "6884               1                0                4               3   \n",
       "\n",
       "      OCCUPATION_TYPE_encoded  LIVING_encoded  EDU_LVL_encoded  target  \n",
       "0                           2               1                4       0  \n",
       "1                           1               1                4       0  \n",
       "2                           0               1                1       0  \n",
       "3                           0               1                4       0  \n",
       "4                           0               1                2       0  \n",
       "...                       ...             ...              ...     ...  \n",
       "6880                        0               1                4       1  \n",
       "6881                        0               1                1       1  \n",
       "6882                        0               1                1       1  \n",
       "6883                        0               1                4       1  \n",
       "6884                        0               4                4       1  \n",
       "\n",
       "[6885 rows x 14 columns]"
      ]
     },
     "execution_count": 38,
     "metadata": {},
     "output_type": "execute_result"
    }
   ],
   "source": [
    "df = df[[ col for col in df.columns if col != 'target' ] + ['target']]\n",
    "df"
   ]
  },
  {
   "cell_type": "code",
   "execution_count": 39,
   "metadata": {},
   "outputs": [
    {
     "data": {
      "text/html": [
       "<div>\n",
       "<style scoped>\n",
       "    .dataframe tbody tr th:only-of-type {\n",
       "        vertical-align: middle;\n",
       "    }\n",
       "\n",
       "    .dataframe tbody tr th {\n",
       "        vertical-align: top;\n",
       "    }\n",
       "\n",
       "    .dataframe thead th {\n",
       "        text-align: right;\n",
       "    }\n",
       "</style>\n",
       "<table border=\"1\" class=\"dataframe\">\n",
       "  <thead>\n",
       "    <tr style=\"text-align: right;\">\n",
       "      <th></th>\n",
       "      <th>CNT_CHILDREN</th>\n",
       "      <th>ANN_INC</th>\n",
       "      <th>FAM_CNT</th>\n",
       "      <th>Age</th>\n",
       "      <th>Experience</th>\n",
       "      <th>OWN_REALTY_encoded</th>\n",
       "      <th>Gender_encoded</th>\n",
       "      <th>OWN_CAR_encoded</th>\n",
       "      <th>INC_CAT_encoded</th>\n",
       "      <th>STATUS_encoded</th>\n",
       "      <th>OCCUPATION_TYPE_encoded</th>\n",
       "      <th>LIVING_encoded</th>\n",
       "      <th>EDU_LVL_encoded</th>\n",
       "    </tr>\n",
       "  </thead>\n",
       "  <tbody>\n",
       "    <tr>\n",
       "      <td>0</td>\n",
       "      <td>0</td>\n",
       "      <td>112500.0</td>\n",
       "      <td>2</td>\n",
       "      <td>58</td>\n",
       "      <td>3</td>\n",
       "      <td>1</td>\n",
       "      <td>1</td>\n",
       "      <td>1</td>\n",
       "      <td>4</td>\n",
       "      <td>1</td>\n",
       "      <td>2</td>\n",
       "      <td>1</td>\n",
       "      <td>4</td>\n",
       "    </tr>\n",
       "    <tr>\n",
       "      <td>1</td>\n",
       "      <td>0</td>\n",
       "      <td>270000.0</td>\n",
       "      <td>1</td>\n",
       "      <td>52</td>\n",
       "      <td>8</td>\n",
       "      <td>1</td>\n",
       "      <td>0</td>\n",
       "      <td>0</td>\n",
       "      <td>0</td>\n",
       "      <td>3</td>\n",
       "      <td>1</td>\n",
       "      <td>1</td>\n",
       "      <td>4</td>\n",
       "    </tr>\n",
       "    <tr>\n",
       "      <td>2</td>\n",
       "      <td>0</td>\n",
       "      <td>270000.0</td>\n",
       "      <td>2</td>\n",
       "      <td>46</td>\n",
       "      <td>2</td>\n",
       "      <td>1</td>\n",
       "      <td>1</td>\n",
       "      <td>1</td>\n",
       "      <td>4</td>\n",
       "      <td>1</td>\n",
       "      <td>0</td>\n",
       "      <td>1</td>\n",
       "      <td>1</td>\n",
       "    </tr>\n",
       "    <tr>\n",
       "      <td>3</td>\n",
       "      <td>0</td>\n",
       "      <td>135000.0</td>\n",
       "      <td>2</td>\n",
       "      <td>48</td>\n",
       "      <td>3</td>\n",
       "      <td>1</td>\n",
       "      <td>1</td>\n",
       "      <td>1</td>\n",
       "      <td>0</td>\n",
       "      <td>1</td>\n",
       "      <td>0</td>\n",
       "      <td>1</td>\n",
       "      <td>4</td>\n",
       "    </tr>\n",
       "    <tr>\n",
       "      <td>4</td>\n",
       "      <td>0</td>\n",
       "      <td>130500.0</td>\n",
       "      <td>2</td>\n",
       "      <td>29</td>\n",
       "      <td>3</td>\n",
       "      <td>0</td>\n",
       "      <td>0</td>\n",
       "      <td>1</td>\n",
       "      <td>4</td>\n",
       "      <td>1</td>\n",
       "      <td>0</td>\n",
       "      <td>1</td>\n",
       "      <td>2</td>\n",
       "    </tr>\n",
       "    <tr>\n",
       "      <td>...</td>\n",
       "      <td>...</td>\n",
       "      <td>...</td>\n",
       "      <td>...</td>\n",
       "      <td>...</td>\n",
       "      <td>...</td>\n",
       "      <td>...</td>\n",
       "      <td>...</td>\n",
       "      <td>...</td>\n",
       "      <td>...</td>\n",
       "      <td>...</td>\n",
       "      <td>...</td>\n",
       "      <td>...</td>\n",
       "      <td>...</td>\n",
       "    </tr>\n",
       "    <tr>\n",
       "      <td>6880</td>\n",
       "      <td>0</td>\n",
       "      <td>315000.0</td>\n",
       "      <td>2</td>\n",
       "      <td>47</td>\n",
       "      <td>6</td>\n",
       "      <td>1</td>\n",
       "      <td>1</td>\n",
       "      <td>1</td>\n",
       "      <td>4</td>\n",
       "      <td>1</td>\n",
       "      <td>0</td>\n",
       "      <td>1</td>\n",
       "      <td>4</td>\n",
       "    </tr>\n",
       "    <tr>\n",
       "      <td>6881</td>\n",
       "      <td>0</td>\n",
       "      <td>157500.0</td>\n",
       "      <td>2</td>\n",
       "      <td>33</td>\n",
       "      <td>3</td>\n",
       "      <td>1</td>\n",
       "      <td>0</td>\n",
       "      <td>0</td>\n",
       "      <td>0</td>\n",
       "      <td>1</td>\n",
       "      <td>0</td>\n",
       "      <td>1</td>\n",
       "      <td>1</td>\n",
       "    </tr>\n",
       "    <tr>\n",
       "      <td>6882</td>\n",
       "      <td>0</td>\n",
       "      <td>157500.0</td>\n",
       "      <td>2</td>\n",
       "      <td>33</td>\n",
       "      <td>3</td>\n",
       "      <td>1</td>\n",
       "      <td>0</td>\n",
       "      <td>0</td>\n",
       "      <td>1</td>\n",
       "      <td>1</td>\n",
       "      <td>0</td>\n",
       "      <td>1</td>\n",
       "      <td>1</td>\n",
       "    </tr>\n",
       "    <tr>\n",
       "      <td>6883</td>\n",
       "      <td>0</td>\n",
       "      <td>283500.0</td>\n",
       "      <td>2</td>\n",
       "      <td>49</td>\n",
       "      <td>1</td>\n",
       "      <td>1</td>\n",
       "      <td>0</td>\n",
       "      <td>0</td>\n",
       "      <td>4</td>\n",
       "      <td>1</td>\n",
       "      <td>0</td>\n",
       "      <td>1</td>\n",
       "      <td>4</td>\n",
       "    </tr>\n",
       "    <tr>\n",
       "      <td>6884</td>\n",
       "      <td>0</td>\n",
       "      <td>112500.0</td>\n",
       "      <td>1</td>\n",
       "      <td>25</td>\n",
       "      <td>3</td>\n",
       "      <td>1</td>\n",
       "      <td>1</td>\n",
       "      <td>0</td>\n",
       "      <td>4</td>\n",
       "      <td>3</td>\n",
       "      <td>0</td>\n",
       "      <td>4</td>\n",
       "      <td>4</td>\n",
       "    </tr>\n",
       "  </tbody>\n",
       "</table>\n",
       "<p>6885 rows × 13 columns</p>\n",
       "</div>"
      ],
      "text/plain": [
       "      CNT_CHILDREN   ANN_INC  FAM_CNT  Age  Experience  OWN_REALTY_encoded  \\\n",
       "0                0  112500.0        2   58           3                   1   \n",
       "1                0  270000.0        1   52           8                   1   \n",
       "2                0  270000.0        2   46           2                   1   \n",
       "3                0  135000.0        2   48           3                   1   \n",
       "4                0  130500.0        2   29           3                   0   \n",
       "...            ...       ...      ...  ...         ...                 ...   \n",
       "6880             0  315000.0        2   47           6                   1   \n",
       "6881             0  157500.0        2   33           3                   1   \n",
       "6882             0  157500.0        2   33           3                   1   \n",
       "6883             0  283500.0        2   49           1                   1   \n",
       "6884             0  112500.0        1   25           3                   1   \n",
       "\n",
       "      Gender_encoded  OWN_CAR_encoded  INC_CAT_encoded  STATUS_encoded  \\\n",
       "0                  1                1                4               1   \n",
       "1                  0                0                0               3   \n",
       "2                  1                1                4               1   \n",
       "3                  1                1                0               1   \n",
       "4                  0                1                4               1   \n",
       "...              ...              ...              ...             ...   \n",
       "6880               1                1                4               1   \n",
       "6881               0                0                0               1   \n",
       "6882               0                0                1               1   \n",
       "6883               0                0                4               1   \n",
       "6884               1                0                4               3   \n",
       "\n",
       "      OCCUPATION_TYPE_encoded  LIVING_encoded  EDU_LVL_encoded  \n",
       "0                           2               1                4  \n",
       "1                           1               1                4  \n",
       "2                           0               1                1  \n",
       "3                           0               1                4  \n",
       "4                           0               1                2  \n",
       "...                       ...             ...              ...  \n",
       "6880                        0               1                4  \n",
       "6881                        0               1                1  \n",
       "6882                        0               1                1  \n",
       "6883                        0               1                4  \n",
       "6884                        0               4                4  \n",
       "\n",
       "[6885 rows x 13 columns]"
      ]
     },
     "execution_count": 39,
     "metadata": {},
     "output_type": "execute_result"
    }
   ],
   "source": [
    "X=df[df.columns[0:13]]\n",
    "X"
   ]
  },
  {
   "cell_type": "code",
   "execution_count": 40,
   "metadata": {},
   "outputs": [
    {
     "data": {
      "text/plain": [
       "0       0\n",
       "1       0\n",
       "2       0\n",
       "3       0\n",
       "4       0\n",
       "       ..\n",
       "6880    1\n",
       "6881    1\n",
       "6882    1\n",
       "6883    1\n",
       "6884    1\n",
       "Name: target, Length: 6885, dtype: int64"
      ]
     },
     "execution_count": 40,
     "metadata": {},
     "output_type": "execute_result"
    }
   ],
   "source": [
    "y=df['target']\n",
    "y"
   ]
  },
  {
   "cell_type": "markdown",
   "metadata": {},
   "source": [
    "### 3.2.Model Predictions"
   ]
  },
  {
   "cell_type": "markdown",
   "metadata": {},
   "source": [
    "After using four classifiers models, we find that RandomForest and XtreemGradientBoosting have roughly the same accuracy of 94%, SupportVectorMachines Model have a 95.5% Accuracy and 90% for the decisionTree Model."
   ]
  },
  {
   "cell_type": "code",
   "execution_count": 42,
   "metadata": {},
   "outputs": [
    {
     "name": "stderr",
     "output_type": "stream",
     "text": [
      "C:\\Users\\pc\\Anaconda3\\lib\\site-packages\\sklearn\\ensemble\\forest.py:245: FutureWarning: The default value of n_estimators will change from 10 in version 0.20 to 100 in 0.22.\n",
      "  \"10 in version 0.20 to 100 in 0.22.\", FutureWarning)\n",
      "C:\\Users\\pc\\Anaconda3\\lib\\site-packages\\sklearn\\svm\\base.py:193: FutureWarning: The default value of gamma will change from 'auto' to 'scale' in version 0.22 to account better for unscaled features. Set gamma explicitly to 'auto' or 'scale' to avoid this warning.\n",
      "  \"avoid this warning.\", FutureWarning)\n"
     ]
    },
    {
     "name": "stdout",
     "output_type": "stream",
     "text": [
      "Randomforest model reached accuracy of: 0.941\n",
      "\n",
      "XtreemGradientBoosting model reached accuracy of: 0.946\n",
      "\n",
      "DecisionTree model reached accuracy of: 0.903\n",
      "\n",
      "SupportVectorMachines model reached accuracy of: 0.955\n",
      "\n"
     ]
    }
   ],
   "source": [
    "X_train, X_test, y_train, y_test = train_test_split(X,y,test_size =0.2,stratify = y)\n",
    "model1 = RandomForestClassifier()\n",
    "model1.fit(X_train, y_train)\n",
    "model2 = XGBClassifier()\n",
    "model2.fit(X_train, y_train)\n",
    "model3 = DecisionTreeClassifier()\n",
    "model3.fit(X_train, y_train)\n",
    "model4 = SVC()\n",
    "model4.fit(X_train, y_train)\n",
    "yhat1 = model1.predict(X_test)\n",
    "yhat2 = model2.predict(X_test)\n",
    "yhat3 = model3.predict(X_test)\n",
    "yhat4 = model4.predict(X_test)\n",
    "acc1 = accuracy_score(y_test, yhat1)\n",
    "acc2 = accuracy_score(y_test, yhat2)\n",
    "acc3 = accuracy_score(y_test, yhat3)\n",
    "acc4 = accuracy_score(y_test, yhat4)\n",
    "print('Randomforest model reached accuracy of: %.3f\\n' % acc1)\n",
    "print('XtreemGradientBoosting model reached accuracy of: %.3f\\n' % acc2)\n",
    "print('DecisionTree model reached accuracy of: %.3f\\n' % acc3)\n",
    "print('SupportVectorMachines model reached accuracy of: %.3f\\n' % acc4)"
   ]
  },
  {
   "cell_type": "code",
   "execution_count": null,
   "metadata": {},
   "outputs": [],
   "source": []
  }
 ],
 "metadata": {
  "kernelspec": {
   "display_name": "Python 3",
   "language": "python",
   "name": "python3"
  },
  "language_info": {
   "codemirror_mode": {
    "name": "ipython",
    "version": 3
   },
   "file_extension": ".py",
   "mimetype": "text/x-python",
   "name": "python",
   "nbconvert_exporter": "python",
   "pygments_lexer": "ipython3",
   "version": "3.7.4"
  }
 },
 "nbformat": 4,
 "nbformat_minor": 2
}
